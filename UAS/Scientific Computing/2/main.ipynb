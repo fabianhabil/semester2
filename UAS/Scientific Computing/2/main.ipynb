{
 "cells": [
  {
   "cell_type": "code",
   "execution_count": 31,
   "metadata": {},
   "outputs": [],
   "source": [
    "import numpy as np\n",
    "import matplotlib.pyplot as plt\n",
    "import math\n",
    "plt.style.use('seaborn-poster')"
   ]
  },
  {
   "cell_type": "code",
   "execution_count": 32,
   "metadata": {},
   "outputs": [],
   "source": [
    "# Data set\n",
    "x = [2, 4, 6, 8, 10, 12, 14]\n",
    "y = [8, 32, 72, 128, 200, 288, 392]\n",
    "# h atau perbedaan dari data set x\n",
    "difference = x[1] - x[0]\n",
    "kecepatanasli = 32\n",
    "percepatanasli = 4"
   ]
  },
  {
   "cell_type": "code",
   "execution_count": 33,
   "metadata": {},
   "outputs": [],
   "source": [
    "def first_forward_difference(x,y,t):\n",
    "    # Akan mereturn di index berapa t yang kita cari dari data x\n",
    "    index = x.index(t)\n",
    "    return (y[index + 1] - y[index]) / difference\n",
    "\n",
    "def first_forward_difference_second(x,y,t):\n",
    "    # Akan mereturn di index berapa t yang kita cari dari data x\n",
    "    index = x.index(t)\n",
    "    return (y[index+2] - (2*y[index+1]) + y[index]) / (difference**2)"
   ]
  },
  {
   "cell_type": "code",
   "execution_count": 34,
   "metadata": {},
   "outputs": [],
   "source": [
    "def first_central_difference(x, y, t):\n",
    "    # Akan mereturn di index berapa t yang kita cari dari data x\n",
    "    index = x.index(t)\n",
    "    return (y[index + 1] - y[index - 1]) / (2 * difference)\n",
    "\n",
    "def first_central_difference_second(x, y, t):\n",
    "    # Akan mereturn di index berapa t yang kita cari dari data x\n",
    "    index = x.index(t)\n",
    "    return (y[index + 1] + y[index - 1] - (2 * y[index])) / (difference**2)"
   ]
  },
  {
   "cell_type": "code",
   "execution_count": 35,
   "metadata": {},
   "outputs": [
    {
     "name": "stdout",
     "output_type": "stream",
     "text": [
      "Kecepatan di t = 8 menggunakan first forward difference adalah 36.0m/s\n",
      "Percepatan di t = 8 menggunakan first forward difference adalah 4.0m/s^2\n",
      "Error yang dihasilkan di kecepatan menggunakan first forward difference adalah 4.0\n",
      "Error yang dihasilkan di percepatan menggunakan first forward difference  adalah 0.0\n"
     ]
    }
   ],
   "source": [
    "kecepatan = first_forward_difference(x,y,8)\n",
    "percepatan = first_forward_difference_second(x,y,8)\n",
    "print(f\"Kecepatan di t = 8 menggunakan first forward difference adalah {kecepatan}m/s\")\n",
    "print(f\"Percepatan di t = 8 menggunakan first forward difference adalah {percepatan}m/s^2\")\n",
    "print(f\"Error yang dihasilkan di kecepatan menggunakan first forward difference adalah {abs(kecepatan - kecepatanasli)}\")\n",
    "print(f\"Error yang dihasilkan di percepatan menggunakan first forward difference  adalah {abs(percepatan - percepatanasli)}\")"
   ]
  },
  {
   "cell_type": "code",
   "execution_count": 36,
   "metadata": {},
   "outputs": [
    {
     "name": "stdout",
     "output_type": "stream",
     "text": [
      "Kecepatan di t = 8 menggunakan first central difference adalah 32.0m/s\n",
      "Percepatan di t = 8 menggunakan first central difference adalah 4.0m/s^2\n",
      "Error yang dihasilkan di kecepatan menggunakan first central difference adalah 0.0\n",
      "Error yang dihasilkan di percepatan menggunakan first central difference  adalah 0.0\n"
     ]
    }
   ],
   "source": [
    "kecepatan = first_central_difference(x,y,8)\n",
    "percepatan = first_central_difference_second(x,y,8)\n",
    "print(f\"Kecepatan di t = 8 menggunakan first central difference adalah {kecepatan}m/s\")\n",
    "print(f\"Percepatan di t = 8 menggunakan first central difference adalah {percepatan}m/s^2\")\n",
    "print(f\"Error yang dihasilkan di kecepatan menggunakan first central difference adalah {abs(kecepatan - kecepatanasli)}\")\n",
    "print(f\"Error yang dihasilkan di percepatan menggunakan first central difference  adalah {abs(percepatan - percepatanasli)}\")"
   ]
  }
 ],
 "metadata": {
  "kernelspec": {
   "display_name": "Python 3.9.7 ('base')",
   "language": "python",
   "name": "python3"
  },
  "language_info": {
   "codemirror_mode": {
    "name": "ipython",
    "version": 3
   },
   "file_extension": ".py",
   "mimetype": "text/x-python",
   "name": "python",
   "nbconvert_exporter": "python",
   "pygments_lexer": "ipython3",
   "version": "3.9.7"
  },
  "orig_nbformat": 4,
  "vscode": {
   "interpreter": {
    "hash": "df2b94bbdcee7216ada73f8eac6c2e25f24762b3bb103cfdec29e47ece9b3cb1"
   }
  }
 },
 "nbformat": 4,
 "nbformat_minor": 2
}
