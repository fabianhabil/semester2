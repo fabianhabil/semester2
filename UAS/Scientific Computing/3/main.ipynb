{
 "cells": [
  {
   "cell_type": "code",
   "execution_count": 35,
   "metadata": {},
   "outputs": [],
   "source": [
    "import numpy as np\n",
    "import matplotlib.pyplot as plt\n",
    "import math\n",
    "plt.style.use('seaborn-poster')"
   ]
  },
  {
   "cell_type": "code",
   "execution_count": 36,
   "metadata": {},
   "outputs": [],
   "source": [
    "def f(x):\n",
    "    return ((9.8 * 68.1) * (1 - (math.e**((-12.5 / 68.1) * x)))) / 12.5"
   ]
  },
  {
   "cell_type": "code",
   "execution_count": 37,
   "metadata": {},
   "outputs": [],
   "source": [
    "# Data set\n",
    "# x adalah array dari interval 0 sampai 100 dengan banyak data 100.\n",
    "x = np.linspace(0, 10, 500)\n",
    "# y adalah array dari hasil x yang kita punya dan dimasukkan ke fungsi yang kita punya.\n",
    "y = f(x)\n",
    "# difference atau perbedaan dari data set x\n",
    "difference = x[1] - x[0]\n",
    "hasileksak = 289.43515"
   ]
  },
  {
   "cell_type": "code",
   "execution_count": 38,
   "metadata": {},
   "outputs": [],
   "source": [
    "def trapezoid_rule(f, x):\n",
    "    size = x.size\n",
    "    y = 0\n",
    "    for i in range(size):\n",
    "        yIntegral = 0\n",
    "        if i == 0 or i == size-1:\n",
    "            yIntegral = f(x[i])\n",
    "        else:\n",
    "            yIntegral = 2 * f(x[i])\n",
    "        y += yIntegral\n",
    "    y = y * difference / 2\n",
    "    return y"
   ]
  },
  {
   "cell_type": "code",
   "execution_count": 39,
   "metadata": {},
   "outputs": [],
   "source": [
    "def simpson_rule(f, x):\n",
    "    diff = x[1] - x[0]\n",
    "    size = x.size\n",
    "    y = 0\n",
    "    simpson3per8 = 0\n",
    "    simpson1per3 = 0\n",
    "\n",
    "    # Simpson 3/8 Rule\n",
    "    for i in range(4):\n",
    "        yIntegral = 0\n",
    "        if i == 0 or i == 3:\n",
    "            yIntegral = f(x[i])\n",
    "        else:\n",
    "            yIntegral = 3*f(x[i])\n",
    "        simpson3per8 += yIntegral\n",
    "    simpson3per8 = simpson3per8 * 3 * diff / 8\n",
    "\n",
    "    # Simpson 1/3 Rule\n",
    "    for i in range(3, size):\n",
    "        yIntegral = 0\n",
    "        # Pertama dan akhir tidak dikali apa - apa.\n",
    "        if i == 3 or i == size-1:\n",
    "            yIntegral = f(x[i])\n",
    "        else:\n",
    "            # Mempunyai pola 1 4 2 4 ... 2 4 1\n",
    "            # Ketika i adalah ganjil maka dikali 2\n",
    "            # Ketika i adalah genap maka dikali 4\n",
    "            if i % 2 == 1:\n",
    "                yIntegral = 2*f(x[i])\n",
    "            else:\n",
    "                yIntegral = 4*f(x[i])\n",
    "        simpson1per3 += yIntegral\n",
    "    simpson1per3 = simpson1per3 * diff / 3\n",
    "    y = simpson1per3 + simpson3per8\n",
    "    return y"
   ]
  },
  {
   "cell_type": "code",
   "execution_count": 40,
   "metadata": {},
   "outputs": [
    {
     "name": "stdout",
     "output_type": "stream",
     "text": [
      "Ada sebanyak 500 data\n",
      "Hasil dari Trapezoid Rule = 289.43487085564135 meter\n",
      "Error yang dihasilkan adalah = 0.00027914435867160137\n"
     ]
    }
   ],
   "source": [
    "trapezoid = trapezoid_rule(f,x)\n",
    "print(f\"Ada sebanyak {x.size} data\")\n",
    "print(f\"Hasil dari Trapezoid Rule = {trapezoid} meter\")\n",
    "print(f\"Error yang dihasilkan adalah = {abs(trapezoid-hasileksak)}\")"
   ]
  },
  {
   "cell_type": "code",
   "execution_count": 41,
   "metadata": {},
   "outputs": [
    {
     "name": "stdout",
     "output_type": "stream",
     "text": [
      "Ada sebanyak 500 data\n",
      "Hasil dari Simpson's Rule = 289.4351465110411 meter\n",
      "Error yang dihasilkan adalah = 3.4889588960140827e-06\n"
     ]
    }
   ],
   "source": [
    "simpson = simpson_rule(f,x)\n",
    "print(f\"Ada sebanyak {x.size} data\")\n",
    "print(f\"Hasil dari Simpson's Rule = {simpson} meter\")\n",
    "print(f\"Error yang dihasilkan adalah = {abs(simpson-hasileksak)}\")"
   ]
  }
 ],
 "metadata": {
  "kernelspec": {
   "display_name": "Python 3.9.7 ('base')",
   "language": "python",
   "name": "python3"
  },
  "language_info": {
   "codemirror_mode": {
    "name": "ipython",
    "version": 3
   },
   "file_extension": ".py",
   "mimetype": "text/x-python",
   "name": "python",
   "nbconvert_exporter": "python",
   "pygments_lexer": "ipython3",
   "version": "3.9.7"
  },
  "orig_nbformat": 4,
  "vscode": {
   "interpreter": {
    "hash": "df2b94bbdcee7216ada73f8eac6c2e25f24762b3bb103cfdec29e47ece9b3cb1"
   }
  }
 },
 "nbformat": 4,
 "nbformat_minor": 2
}
