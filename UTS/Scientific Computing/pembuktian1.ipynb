{
 "cells": [
  {
   "cell_type": "code",
   "execution_count": 2,
   "metadata": {},
   "outputs": [
    {
     "name": "stdout",
     "output_type": "stream",
     "text": [
      "[6.59998374 0.48883733 1.42083987 3.49033905]\n",
      "[ True  True  True  True]\n"
     ]
    }
   ],
   "source": [
    "import numpy as np\n",
    "# Deklarasi matriks.\n",
    "a = np.array([\n",
    "    [3, 1, 2, 2],\n",
    "    [1, 2, 1, 1],\n",
    "    [2, 1, 4, -1],\n",
    "    [2, 1, 1, 3],\n",
    "])\n",
    "print(np.linalg.eigvals(a))\n",
    "print(np.linalg.eigvals(a) > 0)\n"
   ]
  }
 ],
 "metadata": {
  "interpreter": {
   "hash": "2a8ced271ea206e3b8e070260ef4c0de149a6599eac91aef09d146a816abd765"
  },
  "kernelspec": {
   "display_name": "Python 3.9.7 ('base')",
   "language": "python",
   "name": "python3"
  },
  "language_info": {
   "codemirror_mode": {
    "name": "ipython",
    "version": 3
   },
   "file_extension": ".py",
   "mimetype": "text/x-python",
   "name": "python",
   "nbconvert_exporter": "python",
   "pygments_lexer": "ipython3",
   "version": "3.9.7"
  },
  "orig_nbformat": 4
 },
 "nbformat": 4,
 "nbformat_minor": 2
}
