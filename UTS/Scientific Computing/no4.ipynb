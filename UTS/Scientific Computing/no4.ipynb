{
 "cells": [
  {
   "cell_type": "code",
   "execution_count": 11,
   "metadata": {},
   "outputs": [
    {
     "name": "stdout",
     "output_type": "stream",
     "text": [
      "i = 0, f(x) = 6.283185307179586 \n",
      "i = 1, f(x) = -35.05851693322017 \n",
      "i = 2, f(x) = 46.546732342854874 \n",
      "i = 3, f(x) = -30.159127410206487 \n",
      "i = 4, f(x) = 11.899566534691154 \n",
      "i = 5, f(x) = -3.1950760421318307 \n",
      "i = 6, f(x) = 0.6248765427164491 \n",
      "i = 7, f(x) = -0.09324575906205101 \n",
      "i = 8, f(x) = 0.010983403146088755 \n",
      "i = 9, f(x) = -0.0010481827960318636 \n",
      "berhenti di orde ke 9\n"
     ]
    }
   ],
   "source": []
  }
 ],
 "metadata": {
  "interpreter": {
   "hash": "2a8ced271ea206e3b8e070260ef4c0de149a6599eac91aef09d146a816abd765"
  },
  "kernelspec": {
   "display_name": "Python 3.9.7 ('base')",
   "language": "python",
   "name": "python3"
  },
  "language_info": {
   "codemirror_mode": {
    "name": "ipython",
    "version": 3
   },
   "file_extension": ".py",
   "mimetype": "text/x-python",
   "name": "python",
   "nbconvert_exporter": "python",
   "pygments_lexer": "ipython3",
   "version": "3.9.7"
  },
  "orig_nbformat": 4
 },
 "nbformat": 4,
 "nbformat_minor": 2
}
