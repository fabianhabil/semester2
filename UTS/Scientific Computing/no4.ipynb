{
 "cells": [
  {
   "cell_type": "code",
   "execution_count": 1,
   "metadata": {},
   "outputs": [],
   "source": [
    "import math\n",
    "from math import pi\n",
    "# Menghitung Taylor berdasarkan persamaan yang didapat.\n",
    "def taylor(x, i):\n",
    "    taylor_sum = 0\n",
    "    for n in range(i+1):\n",
    "        current = 1 if n % 2 == 0 else -1\n",
    "        current = current * 2**(2*n+1)\n",
    "        current = current / math.factorial(2*n+1)\n",
    "        current = current * x**(2*n+1)\n",
    "        taylor_sum += current\n",
    "    return taylor_sum"
   ]
  },
  {
   "cell_type": "code",
   "execution_count": 2,
   "metadata": {},
   "outputs": [
    {
     "name": "stdout",
     "output_type": "stream",
     "text": [
      "i = 0, f(x) = 6.283185307179586 \n",
      "i = 1, f(x) = -35.05851693322017 \n",
      "i = 2, f(x) = 46.546732342854874 \n",
      "i = 3, f(x) = -30.159127410206487 \n",
      "i = 4, f(x) = 11.899566534691154 \n",
      "i = 5, f(x) = -3.1950760421318307 \n",
      "i = 6, f(x) = 0.6248765427164491 \n",
      "i = 7, f(x) = -0.09324575906205101 \n",
      "i = 8, f(x) = 0.010983403146088755 \n",
      "i = 9, f(x) = -0.0010481827960318636 \n",
      "berhenti di iterasi 9\n"
     ]
    }
   ],
   "source": [
    "# Epsilon error yang ditetapkan sebesar 0.005\n",
    "epsilon = 5e-3\n",
    "for i in range(50):\n",
    "    taylor_ans = taylor(pi, i)\n",
    "    print(f\"i = {i}, f(x) = {taylor_ans} \")\n",
    "    # Cek apakah hasil dari taylor masih di atas epsilon.\n",
    "    if(abs(taylor_ans) < epsilon):\n",
    "        print(f\"berhenti di iterasi {i}\")\n",
    "        break"
   ]
  }
 ],
 "metadata": {
  "kernelspec": {
   "display_name": "Python 3.9.7 ('base')",
   "language": "python",
   "name": "python3"
  },
  "language_info": {
   "codemirror_mode": {
    "name": "ipython",
    "version": 3
   },
   "file_extension": ".py",
   "mimetype": "text/x-python",
   "name": "python",
   "nbconvert_exporter": "python",
   "pygments_lexer": "ipython3",
   "version": "3.9.7"
  },
  "orig_nbformat": 4,
  "vscode": {
   "interpreter": {
    "hash": "df2b94bbdcee7216ada73f8eac6c2e25f24762b3bb103cfdec29e47ece9b3cb1"
   }
  }
 },
 "nbformat": 4,
 "nbformat_minor": 2
}
