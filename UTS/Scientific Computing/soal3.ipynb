{
 "cells": [
  {
   "cell_type": "code",
   "execution_count": 2,
   "metadata": {},
   "outputs": [
    {
     "name": "stderr",
     "output_type": "stream",
     "text": [
      "<>:6: SyntaxWarning: 'float' object is not callable; perhaps you missed a comma?\n",
      "<>:6: SyntaxWarning: 'float' object is not callable; perhaps you missed a comma?\n",
      "<>:6: SyntaxWarning: 'float' object is not callable; perhaps you missed a comma?\n",
      "<>:6: SyntaxWarning: 'float' object is not callable; perhaps you missed a comma?\n",
      "<>:6: SyntaxWarning: 'float' object is not callable; perhaps you missed a comma?\n",
      "<>:6: SyntaxWarning: 'float' object is not callable; perhaps you missed a comma?\n",
      "C:\\Users\\fabian\\AppData\\Local\\Temp\\ipykernel_8432\\914165122.py:6: SyntaxWarning: 'float' object is not callable; perhaps you missed a comma?\n",
      "  9.87 + -0.1815(x-16) + 0.0026484375000000032(x-16)(x-24) + -0.00003841145833333344(x-16)(x-24)(x-32)\n",
      "C:\\Users\\fabian\\AppData\\Local\\Temp\\ipykernel_8432\\914165122.py:6: SyntaxWarning: 'float' object is not callable; perhaps you missed a comma?\n",
      "  9.87 + -0.1815(x-16) + 0.0026484375000000032(x-16)(x-24) + -0.00003841145833333344(x-16)(x-24)(x-32)\n",
      "C:\\Users\\fabian\\AppData\\Local\\Temp\\ipykernel_8432\\914165122.py:6: SyntaxWarning: 'float' object is not callable; perhaps you missed a comma?\n",
      "  9.87 + -0.1815(x-16) + 0.0026484375000000032(x-16)(x-24) + -0.00003841145833333344(x-16)(x-24)(x-32)\n",
      "C:\\Users\\fabian\\AppData\\Local\\Temp\\ipykernel_8432\\914165122.py:6: SyntaxWarning: 'float' object is not callable; perhaps you missed a comma?\n",
      "  9.87 + -0.1815(x-16) + 0.0026484375000000032(x-16)(x-24) + -0.00003841145833333344(x-16)(x-24)(x-32)\n",
      "C:\\Users\\fabian\\AppData\\Local\\Temp\\ipykernel_8432\\914165122.py:6: SyntaxWarning: 'float' object is not callable; perhaps you missed a comma?\n",
      "  9.87 + -0.1815(x-16) + 0.0026484375000000032(x-16)(x-24) + -0.00003841145833333344(x-16)(x-24)(x-32)\n",
      "C:\\Users\\fabian\\AppData\\Local\\Temp\\ipykernel_8432\\914165122.py:6: SyntaxWarning: 'float' object is not callable; perhaps you missed a comma?\n",
      "  9.87 + -0.1815(x-16) + 0.0026484375000000032(x-16)(x-24) + -0.00003841145833333344(x-16)(x-24)(x-32)\n",
      "C:\\Users\\fabian\\AppData\\Local\\Temp\\ipykernel_8432\\914165122.py:6: SyntaxWarning: 'float' object is not callable; perhaps you missed a comma?\n",
      "  9.87 + -0.1815(x-16) + 0.0026484375000000032(x-16)(x-24) + -0.00003841145833333344(x-16)(x-24)(x-32)\n",
      "C:\\Users\\fabian\\AppData\\Local\\Temp\\ipykernel_8432\\914165122.py:6: SyntaxWarning: 'float' object is not callable; perhaps you missed a comma?\n",
      "  9.87 + -0.1815(x-16) + 0.0026484375000000032(x-16)(x-24) + -0.00003841145833333344(x-16)(x-24)(x-32)\n",
      "C:\\Users\\fabian\\AppData\\Local\\Temp\\ipykernel_8432\\914165122.py:6: SyntaxWarning: 'float' object is not callable; perhaps you missed a comma?\n",
      "  9.87 + -0.1815(x-16) + 0.0026484375000000032(x-16)(x-24) + -0.00003841145833333344(x-16)(x-24)(x-32)\n",
      "C:\\Users\\fabian\\AppData\\Local\\Temp\\ipykernel_8432\\914165122.py:6: SyntaxWarning: 'float' object is not callable; perhaps you missed a comma?\n",
      "  9.87 + -0.1815(x-16) + 0.0026484375000000032(x-16)(x-24) + -0.00003841145833333344(x-16)(x-24)(x-32)\n",
      "C:\\Users\\fabian\\AppData\\Local\\Temp\\ipykernel_8432\\914165122.py:6: SyntaxWarning: 'float' object is not callable; perhaps you missed a comma?\n",
      "  9.87 + -0.1815(x-16) + 0.0026484375000000032(x-16)(x-24) + -0.00003841145833333344(x-16)(x-24)(x-32)\n",
      "C:\\Users\\fabian\\AppData\\Local\\Temp\\ipykernel_8432\\914165122.py:6: SyntaxWarning: 'float' object is not callable; perhaps you missed a comma?\n",
      "  9.87 + -0.1815(x-16) + 0.0026484375000000032(x-16)(x-24) + -0.00003841145833333344(x-16)(x-24)(x-32)\n",
      "C:\\Users\\fabian\\AppData\\Local\\Temp\\ipykernel_8432\\914165122.py:6: SyntaxWarning: 'float' object is not callable; perhaps you missed a comma?\n",
      "  9.87 + -0.1815(x-16) + 0.0026484375000000032(x-16)(x-24) + -0.00003841145833333344(x-16)(x-24)(x-32)\n",
      "C:\\Users\\fabian\\AppData\\Local\\Temp\\ipykernel_8432\\914165122.py:6: SyntaxWarning: 'float' object is not callable; perhaps you missed a comma?\n",
      "  9.87 + -0.1815(x-16) + 0.0026484375000000032(x-16)(x-24) + -0.00003841145833333344(x-16)(x-24)(x-32)\n",
      "C:\\Users\\fabian\\AppData\\Local\\Temp\\ipykernel_8432\\914165122.py:6: SyntaxWarning: 'float' object is not callable; perhaps you missed a comma?\n",
      "  9.87 + -0.1815(x-16) + 0.0026484375000000032(x-16)(x-24) + -0.00003841145833333344(x-16)(x-24)(x-32)\n",
      "C:\\Users\\fabian\\AppData\\Local\\Temp\\ipykernel_8432\\914165122.py:6: SyntaxWarning: 'float' object is not callable; perhaps you missed a comma?\n",
      "  9.87 + -0.1815(x-16) + 0.0026484375000000032(x-16)(x-24) + -0.00003841145833333344(x-16)(x-24)(x-32)\n",
      "C:\\Users\\fabian\\AppData\\Local\\Temp\\ipykernel_8432\\914165122.py:6: SyntaxWarning: 'float' object is not callable; perhaps you missed a comma?\n",
      "  9.87 + -0.1815(x-16) + 0.0026484375000000032(x-16)(x-24) + -0.00003841145833333344(x-16)(x-24)(x-32)\n",
      "C:\\Users\\fabian\\AppData\\Local\\Temp\\ipykernel_8432\\914165122.py:6: SyntaxWarning: 'float' object is not callable; perhaps you missed a comma?\n",
      "  9.87 + -0.1815(x-16) + 0.0026484375000000032(x-16)(x-24) + -0.00003841145833333344(x-16)(x-24)(x-32)\n",
      "C:\\Users\\fabian\\AppData\\Local\\Temp\\ipykernel_8432\\914165122.py:6: SyntaxWarning: 'float' object is not callable; perhaps you missed a comma?\n",
      "  9.87 + -0.1815(x-16) + 0.0026484375000000032(x-16)(x-24) + -0.00003841145833333344(x-16)(x-24)(x-32)\n",
      "C:\\Users\\fabian\\AppData\\Local\\Temp\\ipykernel_8432\\914165122.py:6: SyntaxWarning: 'float' object is not callable; perhaps you missed a comma?\n",
      "  9.87 + -0.1815(x-16) + 0.0026484375000000032(x-16)(x-24) + -0.00003841145833333344(x-16)(x-24)(x-32)\n",
      "C:\\Users\\fabian\\AppData\\Local\\Temp\\ipykernel_8432\\914165122.py:6: SyntaxWarning: 'float' object is not callable; perhaps you missed a comma?\n",
      "  9.87 + -0.1815(x-16) + 0.0026484375000000032(x-16)(x-24) + -0.00003841145833333344(x-16)(x-24)(x-32)\n",
      "C:\\Users\\fabian\\AppData\\Local\\Temp\\ipykernel_8432\\914165122.py:6: SyntaxWarning: 'float' object is not callable; perhaps you missed a comma?\n",
      "  9.87 + -0.1815(x-16) + 0.0026484375000000032(x-16)(x-24) + -0.00003841145833333344(x-16)(x-24)(x-32)\n",
      "C:\\Users\\fabian\\AppData\\Local\\Temp\\ipykernel_8432\\914165122.py:6: SyntaxWarning: 'float' object is not callable; perhaps you missed a comma?\n",
      "  9.87 + -0.1815(x-16) + 0.0026484375000000032(x-16)(x-24) + -0.00003841145833333344(x-16)(x-24)(x-32)\n",
      "C:\\Users\\fabian\\AppData\\Local\\Temp\\ipykernel_8432\\914165122.py:6: SyntaxWarning: 'float' object is not callable; perhaps you missed a comma?\n",
      "  9.87 + -0.1815(x-16) + 0.0026484375000000032(x-16)(x-24) + -0.00003841145833333344(x-16)(x-24)(x-32)\n"
     ]
    },
    {
     "ename": "NameError",
     "evalue": "name 'x' is not defined",
     "output_type": "error",
     "traceback": [
      "\u001b[1;31m---------------------------------------------------------------------------\u001b[0m",
      "\u001b[1;31mNameError\u001b[0m                                 Traceback (most recent call last)",
      "\u001b[1;32md:\\Kuliah 2501976503 BNCC2103012\\2\\semester2\\UTS\\Scientific Computing\\soal3.ipynb Cell 1'\u001b[0m in \u001b[0;36m<cell line: 6>\u001b[1;34m()\u001b[0m\n\u001b[0;32m      <a href='vscode-notebook-cell:/d%3A/Kuliah%202501976503%20BNCC2103012/2/semester2/UTS/Scientific%20Computing/soal3.ipynb#ch0000000?line=1'>2</a>\u001b[0m \u001b[39mimport\u001b[39;00m \u001b[39mmatplotlib\u001b[39;00m\u001b[39m.\u001b[39;00m\u001b[39mpyplot\u001b[39;00m \u001b[39mas\u001b[39;00m \u001b[39mplt\u001b[39;00m\n\u001b[0;32m      <a href='vscode-notebook-cell:/d%3A/Kuliah%202501976503%20BNCC2103012/2/semester2/UTS/Scientific%20Computing/soal3.ipynb#ch0000000?line=2'>3</a>\u001b[0m plt\u001b[39m.\u001b[39mstyle\u001b[39m.\u001b[39muse(\u001b[39m'\u001b[39m\u001b[39mseaborn-poster\u001b[39m\u001b[39m'\u001b[39m)\n\u001b[1;32m----> <a href='vscode-notebook-cell:/d%3A/Kuliah%202501976503%20BNCC2103012/2/semester2/UTS/Scientific%20Computing/soal3.ipynb#ch0000000?line=5'>6</a>\u001b[0m \u001b[39m9.87\u001b[39m \u001b[39m+\u001b[39m \u001b[39m-\u001b[39m\u001b[39m0.1815\u001b[39m(x\u001b[39m-\u001b[39m\u001b[39m16\u001b[39m) \u001b[39m+\u001b[39m \u001b[39m0.0026484375000000032\u001b[39m(x\u001b[39m-\u001b[39m\u001b[39m16\u001b[39m)(x\u001b[39m-\u001b[39m\u001b[39m24\u001b[39m) \u001b[39m+\u001b[39m \u001b[39m-\u001b[39m\u001b[39m0.00003841145833333344\u001b[39m(x\u001b[39m-\u001b[39m\u001b[39m16\u001b[39m)(x\u001b[39m-\u001b[39m\u001b[39m24\u001b[39m)(x\u001b[39m-\u001b[39m\u001b[39m32\u001b[39m)\n",
      "\u001b[1;31mNameError\u001b[0m: name 'x' is not defined"
     ]
    }
   ],
   "source": [
    "import numpy as np\n",
    "import matplotlib.pyplot as plt\n",
    "plt.style.use('seaborn-poster')\n",
    "\n",
    "\n",
    "9.87 + -0.1815(x-16) + 0.0026484375000000032(x-16)(x-24) + -0.00003841145833333344(x-16)(x-24)(x-32)\n",
    "14.2411 - 0.10345(x-1983) + 0.0552875(x-1983)(x-1985)\n",
    "\n",
    "0.0553 x^2 - 219.534 x + 217894"
   ]
  }
 ],
 "metadata": {
  "kernelspec": {
   "display_name": "Python 3.9.7 ('base')",
   "language": "python",
   "name": "python3"
  },
  "language_info": {
   "codemirror_mode": {
    "name": "ipython",
    "version": 3
   },
   "file_extension": ".py",
   "mimetype": "text/x-python",
   "name": "python",
   "nbconvert_exporter": "python",
   "pygments_lexer": "ipython3",
   "version": "3.9.7"
  },
  "orig_nbformat": 4,
  "vscode": {
   "interpreter": {
    "hash": "df2b94bbdcee7216ada73f8eac6c2e25f24762b3bb103cfdec29e47ece9b3cb1"
   }
  }
 },
 "nbformat": 4,
 "nbformat_minor": 2
}
