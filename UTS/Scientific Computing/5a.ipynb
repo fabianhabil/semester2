{
 "cells": [
  {
   "cell_type": "code",
   "execution_count": 38,
   "metadata": {},
   "outputs": [
    {
     "name": "stdout",
     "output_type": "stream",
     "text": [
      "Iterasi\t\tx0\t\tx1\t\ttitik tengah\n",
      "1\t\t-3\t\t3\t\t0.0\n",
      "2\t\t-3\t\t0.0\t\t-1.5\n",
      "3\t\t-3\t\t-1.5\t\t-2.25\n",
      "4\t\t-2.25\t\t-1.5\t\t-1.875\n",
      "5\t\t-1.875\t\t-1.5\t\t-1.6875\n",
      "6\t\t-1.6875\t\t-1.5\t\t-1.59375\n",
      "7\t\t-1.6875\t\t-1.59375\t\t-1.640625\n",
      "8\t\t-1.6875\t\t-1.640625\t\t-1.6640625\n",
      "9\t\t-1.6875\t\t-1.6640625\t\t-1.67578125\n",
      "10\t\t-1.67578125\t\t-1.6640625\t\t-1.669921875\n",
      "11\t\t-1.67578125\t\t-1.669921875\t\t-1.6728515625\n",
      "12\t\t-1.67578125\t\t-1.6728515625\t\t-1.67431640625\n",
      "13\t\t-1.67431640625\t\t-1.6728515625\t\t-1.673583984375\n",
      "14\t\t-1.673583984375\t\t-1.6728515625\t\t-1.6732177734375\n",
      "15\t\t-1.6732177734375\t\t-1.6728515625\t\t-1.67303466796875\n",
      "16\t\t-1.67303466796875\t\t-1.6728515625\t\t-1.672943115234375\n",
      "17\t\t-1.67303466796875\t\t-1.672943115234375\t\t-1.6729888916015625\n",
      "18\t\t-1.6729888916015625\t\t-1.672943115234375\t\t-1.6729660034179688\n",
      "19\t\t-1.6729888916015625\t\t-1.6729660034179688\t\t-1.6729774475097656\n",
      "20\t\t-1.6729888916015625\t\t-1.6729774475097656\t\t-1.672983169555664\n",
      "21\t\t-1.672983169555664\t\t-1.6729774475097656\t\t-1.6729803085327148\n",
      "Didapatkan salah satu akarnya adalah -1.6729803085327148\n"
     ]
    }
   ],
   "source": [
    "# Function 2x^3-5x+1\n",
    "def f(x):\n",
    "    return 2*(x**3)-5*x+1\n",
    "\n",
    "# Bisection Function\n",
    "def bisection(x0, x1, e):\n",
    "    i = 1\n",
    "    # Yang satu harus positif dan negatif\n",
    "    # Agar memotong di x dan mendapatkan root.\n",
    "    print(\"Iterasi\\t\\tx0\\t\\tx1\\t\\ttitik tengah\")\n",
    "    while f(x1) * f(x0) < 0:\n",
    "        # m menjadi tengah - tengah dari x0 dan x1 sekarang.\n",
    "        m = (x0 + x1) / 2\n",
    "        print(f\"{i}\\t\\t{x0}\\t\\t{x1}\\t\\t{m}\")\n",
    "\n",
    "        # Ketika dua titik interval selisihnya sudah kurang dari error toleransi yang sudah kita tentukan.\n",
    "        if abs(x0 - x1) < e:\n",
    "            return m\n",
    "\n",
    "        # Ketika nilai fungsi x0 dengan nilai fungsi m dikalikan lebih kecil dari 0.\n",
    "        # Yang berarti kedua titik ini berlawanan nilainya (positif dan negatif)\n",
    "        # Bisa mencari titik saat y = 0 yang artinya adalah root dari fungsi tersebut.\n",
    "        if f(x0) * f(m) < 0:\n",
    "            # Rubah x1 menjadi m untuk memperkecil untuk perhitungan iterasi selanjutnya.\n",
    "            x1 = m\n",
    "        # Jika nilai fungsi x1 dengan nilai fungsi m dikalikan lebih kecil dari 0.\n",
    "        else:\n",
    "            # Rubah x0 menjadi m untuk memperkecil untuk perhitungan iterasi selanjutnya.\n",
    "            x0 = m\n",
    "        # Tambah i untuk iterasi\n",
    "        i = i + 1\n",
    "\n",
    "\n",
    "# Interval awal\n",
    "x0 = -3\n",
    "x1 = 3\n",
    "# Error Toleransi yang ditetapkan sebesar 0.005\n",
    "epsilon_error = 5e-3\n",
    "\n",
    "root = bisection(-3, 3, 0.00001)\n",
    "print(f\"Didapatkan salah satu akarnya adalah {root}\")\n"
   ]
  }
 ],
 "metadata": {
  "interpreter": {
   "hash": "2a8ced271ea206e3b8e070260ef4c0de149a6599eac91aef09d146a816abd765"
  },
  "kernelspec": {
   "display_name": "Python 3.9.7 ('base')",
   "language": "python",
   "name": "python3"
  },
  "language_info": {
   "codemirror_mode": {
    "name": "ipython",
    "version": 3
   },
   "file_extension": ".py",
   "mimetype": "text/x-python",
   "name": "python",
   "nbconvert_exporter": "python",
   "pygments_lexer": "ipython3",
   "version": "3.9.7"
  },
  "orig_nbformat": 4
 },
 "nbformat": 4,
 "nbformat_minor": 2
}
