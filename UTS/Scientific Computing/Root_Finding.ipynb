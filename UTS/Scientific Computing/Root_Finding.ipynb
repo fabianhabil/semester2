{
  "nbformat": 4,
  "nbformat_minor": 0,
  "metadata": {
    "colab": {
      "name": "Root Finding.ipynb",
      "provenance": [],
      "collapsed_sections": []
    },
    "kernelspec": {
      "name": "python3",
      "display_name": "Python 3"
    },
    "language_info": {
      "name": "python"
    }
  },
  "cells": [
    {
      "cell_type": "markdown",
      "source": [
        "Bisectional Method"
      ],
      "metadata": {
        "id": "CIuR0P2w7-rs"
      }
    },
    {
      "cell_type": "code",
      "source": [
        "def f(x):\n",
        "  return 2*(x**3) - 5*x + 1\n",
        "\n",
        "\n",
        "# Implementing Bisection Method\n",
        "def bisection(x0,x1,e):\n",
        "    step = 1\n",
        "    print('\\n\\n*** BISECTION METHOD IMPLEMENTATION ***')\n",
        "    condition = True\n",
        "    while condition:\n",
        "        x2 = (x0 + x1)/2\n",
        "        print('Iteration-%d, x2 = %0.6f and f(x2) = %0.6f' % (step, x2, f(x2)))\n",
        "\n",
        "        if f(x0) * f(x2) < 0:\n",
        "            x1 = x2\n",
        "        else:\n",
        "            x0 = x2\n",
        "        \n",
        "        step = step + 1\n",
        "        condition = abs(f(x2)) > e\n",
        "\n",
        "    print('\\nRequired Root is : %0.8f' % x2)\n",
        "\n",
        "\n",
        "# Input Section\n",
        "x0 = 0.5\n",
        "x1 = 3\n",
        "e = 0.00001\n",
        "\n",
        "# Checking Correctness of initial guess values and bisecting\n",
        "if f(x0) * f(x1) > 0.0:\n",
        "    print('Given guess values do not bracket the root.')\n",
        "    print('Try Again with different guess values.')\n",
        "    print(f(x0))\n",
        "    print(f(x1))\n",
        "else:\n",
        "    print(f(x0))\n",
        "    print(f(x1))\n",
        "    bisection(x0,x1,e)"
      ],
      "metadata": {
        "id": "ZQ6iCxSQTirq",
        "colab": {
          "base_uri": "https://localhost:8080/"
        },
        "outputId": "8deb6ec2-be35-4fa0-acf3-189022192af8"
      },
      "execution_count": null,
      "outputs": [
        {
          "output_type": "stream",
          "name": "stdout",
          "text": [
            "-1.25\n",
            "40\n",
            "\n",
            "\n",
            "*** BISECTION METHOD IMPLEMENTATION ***\n",
            "Iteration-1, x2 = 1.750000 and f(x2) = 2.968750\n",
            "Iteration-2, x2 = 1.125000 and f(x2) = -1.777344\n",
            "Iteration-3, x2 = 1.437500 and f(x2) = -0.246582\n",
            "Iteration-4, x2 = 1.593750 and f(x2) = 1.127625\n",
            "Iteration-5, x2 = 1.515625 and f(x2) = 0.385017\n",
            "Iteration-6, x2 = 1.476562 and f(x2) = 0.055699\n",
            "Iteration-7, x2 = 1.457031 and f(x2) = -0.098776\n",
            "Iteration-8, x2 = 1.466797 and f(x2) = -0.022378\n",
            "Iteration-9, x2 = 1.471680 and f(x2) = 0.016450\n",
            "Iteration-10, x2 = 1.469238 and f(x2) = -0.003016\n",
            "Iteration-11, x2 = 1.470459 and f(x2) = 0.006704\n",
            "Iteration-12, x2 = 1.469849 and f(x2) = 0.001841\n",
            "Iteration-13, x2 = 1.469543 and f(x2) = -0.000589\n",
            "Iteration-14, x2 = 1.469696 and f(x2) = 0.000626\n",
            "Iteration-15, x2 = 1.469620 and f(x2) = 0.000018\n",
            "Iteration-16, x2 = 1.469582 and f(x2) = -0.000285\n",
            "Iteration-17, x2 = 1.469601 and f(x2) = -0.000133\n",
            "Iteration-18, x2 = 1.469610 and f(x2) = -0.000057\n",
            "Iteration-19, x2 = 1.469615 and f(x2) = -0.000020\n",
            "Iteration-20, x2 = 1.469617 and f(x2) = -0.000001\n",
            "\n",
            "Required Root is : 1.46961737\n"
          ]
        }
      ]
    },
    {
      "cell_type": "code",
      "source": [
        "import math\n",
        "\n",
        "#total iteration\n",
        "n=math.log(abs(x1-x0)/e)/math.log(2)\n",
        "print(n)"
      ],
      "metadata": {
        "colab": {
          "base_uri": "https://localhost:8080/"
        },
        "id": "hAY8mYJ8BuKX",
        "outputId": "3b88bc25-d1ec-44a6-daa7-31de789b35c9"
      },
      "execution_count": null,
      "outputs": [
        {
          "output_type": "stream",
          "name": "stdout",
          "text": [
            "17.931568569324174\n"
          ]
        }
      ]
    },
    {
      "cell_type": "markdown",
      "source": [
        "Newton - Rapson Method"
      ],
      "metadata": {
        "id": "Ce4y5z6S795F"
      }
    },
    {
      "cell_type": "code",
      "source": [
        "# Defining Function\n",
        "def f(x):\n",
        "    return 2*(x**3) - 5*x + 1\n",
        "\n",
        "# Defining derivative of function\n",
        "def g(x):\n",
        "    return 6*x**2 - 5\n",
        "\n",
        "# Implementing Newton Raphson Method\n",
        "\n",
        "def newtonRaphson(x0, e, N):\n",
        "    print('\\n\\n*** NEWTON RAPHSON METHOD IMPLEMENTATION ***')\n",
        "    step = 1\n",
        "    flag = 1\n",
        "    condition = True\n",
        "    while condition:\n",
        "        if g(x0) == 0.0:\n",
        "            print('Divide by zero error!')\n",
        "            break\n",
        "        \n",
        "        x1 = x0 - f(x0)/g(x0) \n",
        "        print('Iteration-%d, x1 = %0.6f and f(x1) = %0.6f' % (step, x1, f(x1)))\n",
        "        x0 = x1\n",
        "        step = step + 1\n",
        "        \n",
        "        if step > N:\n",
        "            flag = 0\n",
        "            break\n",
        "        \n",
        "        condition = abs(f(x1)) > e\n",
        "    \n",
        "    if flag==1:\n",
        "        print('\\nRequired root is: %0.8f' % x1)\n",
        "    else:\n",
        "        print('\\nNot Convergent.')\n",
        "\n",
        "\n",
        "# Input Section\n",
        "x0 = 2\n",
        "e = 0.00001\n",
        "N = 100\n",
        "\n",
        "# Starting Newton Raphson Method\n",
        "newtonRaphson(x0,e,N)\n"
      ],
      "metadata": {
        "colab": {
          "base_uri": "https://localhost:8080/"
        },
        "id": "qpMKW2NQEJ-3",
        "outputId": "1adc9472-439a-413e-c5b0-f6c3968a4130"
      },
      "execution_count": null,
      "outputs": [
        {
          "output_type": "stream",
          "name": "stdout",
          "text": [
            "\n",
            "\n",
            "*** NEWTON RAPHSON METHOD IMPLEMENTATION ***\n",
            "Iteration-1, x1 = 1.631579 and f(x1) = 1.528794\n",
            "Iteration-2, x1 = 1.492247 and f(x1) = 0.184638\n",
            "Iteration-3, x1 = 1.470163 and f(x1) = 0.004345\n",
            "Iteration-4, x1 = 1.469618 and f(x1) = 0.000003\n",
            "\n",
            "Required root is: 1.46961776\n"
          ]
        }
      ]
    },
    {
      "cell_type": "markdown",
      "source": [
        "Based on library on Python"
      ],
      "metadata": {
        "id": "oSUjMICtFAOP"
      }
    },
    {
      "cell_type": "code",
      "source": [
        "from scipy.optimize import fsolve\n",
        "\n",
        "# Defining Function\n",
        "def f(x):\n",
        "    return 2*x**3 - 5*(x**2) + x + 3\n",
        "\n",
        "x1 = fsolve(f, 2.)\n",
        "#print('\\nRequired root is: %0.8f' % x1)\n",
        "x1"
      ],
      "metadata": {
        "colab": {
          "base_uri": "https://localhost:8080/"
        },
        "id": "W10PZpVpFFv7",
        "outputId": "f369771e-447e-4564-9778-c6c1de0b82f3"
      },
      "execution_count": null,
      "outputs": [
        {
          "output_type": "execute_result",
          "data": {
            "text/plain": [
              "array([1.61803399])"
            ]
          },
          "metadata": {},
          "execution_count": 32
        }
      ]
    }
  ]
}