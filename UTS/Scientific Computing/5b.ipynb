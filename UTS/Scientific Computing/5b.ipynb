{
 "cells": [
  {
   "cell_type": "code",
   "execution_count": 21,
   "metadata": {},
   "outputs": [
    {
     "name": "stdout",
     "output_type": "stream",
     "text": [
      "Iterasi ke-1 : 0.2\n",
      "Iterasi ke-2 : 0.20336134453781515\n",
      "Didapatkan salah satu akarnya adalah 0.20336134453781515 \n"
     ]
    }
   ],
   "source": [
    "# Function 2x^3-5x+1\n",
    "def f(x):\n",
    "    return 2*(x**3)-5*x+1\n",
    "\n",
    "# Turunan fungsi\n",
    "def df(x):\n",
    "    return 6*(x**2) - 5\n",
    "\n",
    "# Newton Raphson Function\n",
    "def newton_raphson(f, df, x0, e):\n",
    "    i = 1\n",
    "    while(f(x0) > e):\n",
    "        x0 = x0 - (f(x0) / df(x0))\n",
    "        print(f\"Iterasi ke-{i} : {x0}\")\n",
    "        i = i + 1\n",
    "    return x0\n",
    "\n",
    "# Tentukan x0 sembrang dengan 50\n",
    "x0 = 0\n",
    "# Error Toleransi yang ditetapkan sebesar 0.005\n",
    "epsilon_error = 5e-3\n",
    "\n",
    "newton_raphson_result = newton_raphson(f, df, x0, epsilon_error)\n",
    "print(f\"Didapatkan salah satu akarnya adalah {newton_raphson_result} \")"
   ]
  }
 ],
 "metadata": {
  "interpreter": {
   "hash": "2a8ced271ea206e3b8e070260ef4c0de149a6599eac91aef09d146a816abd765"
  },
  "kernelspec": {
   "display_name": "Python 3.9.7 ('base')",
   "language": "python",
   "name": "python3"
  },
  "language_info": {
   "codemirror_mode": {
    "name": "ipython",
    "version": 3
   },
   "file_extension": ".py",
   "mimetype": "text/x-python",
   "name": "python",
   "nbconvert_exporter": "python",
   "pygments_lexer": "ipython3",
   "version": "3.9.7"
  },
  "orig_nbformat": 4
 },
 "nbformat": 4,
 "nbformat_minor": 2
}
