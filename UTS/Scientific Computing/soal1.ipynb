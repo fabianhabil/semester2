{
 "cells": [
  {
   "cell_type": "code",
   "execution_count": 4,
   "metadata": {},
   "outputs": [],
   "source": [
    "import numpy as np\n",
    "# Deklarasi matriks persamaan.\n",
    "a = np.array([\n",
    "    [3, 1, 2, 2],\n",
    "    [1, 2, 1, 1],\n",
    "    [2, 1, 4, -1],\n",
    "    [2, 1, 1, 3],\n",
    "])"
   ]
  },
  {
   "cell_type": "code",
   "execution_count": 5,
   "metadata": {},
   "outputs": [
    {
     "name": "stdout",
     "output_type": "stream",
     "text": [
      "0.005\n"
     ]
    }
   ],
   "source": [
    "# Gauss Seidel Iteration Variabel Declaration\n",
    "# Deklarasi awal X1 - X4\n",
    "X1 = 0\n",
    "X2 = 0\n",
    "X3 = 0\n",
    "X4 = 0\n",
    "# Epsilon error yang ditetapkan sebesar 0.005\n",
    "epsilon = 5e-3\n",
    "# Boolean untuk perhitungan ketika sudah converged.\n",
    "converged = False\n",
    "xOld = np.array([X1, X2, X3, X4])"
   ]
  },
  {
   "cell_type": "code",
   "execution_count": 6,
   "metadata": {},
   "outputs": [
    {
     "name": "stdout",
     "output_type": "stream",
     "text": [
      "Iterasi     X1          X2          X3             X4              Epsilon Error\n",
      " 1          6.3333      2.8333      -0.8750         1.4583              7.1436\n",
      " 2          5.0000      3.2083      0.0625         1.9097              1.7324\n",
      " 3          3.9491      3.0394      0.7431         2.4398              1.3701\n",
      " 4          3.1983      2.8094      1.3084         2.8285              1.0427\n",
      " 5          2.6389      2.6121      1.7347         3.1252              0.7884\n",
      " 6          2.2228      2.4587      2.0552         3.3468              0.5904\n",
      " 7          1.9124      2.3428      2.2948         3.5125              0.4412\n",
      " 8          1.6808      2.2559      2.4738         3.6362              0.3294\n",
      " 9          1.5080      2.1910      2.6073         3.7285              0.2458\n",
      "10          1.3791      2.1425      2.7069         3.7974              0.1834\n",
      "11          1.2829      2.1064      2.7813         3.8488              0.1369\n",
      "12          1.2111      2.0794      2.8368         3.8872              0.1021\n",
      "13          1.1575      2.0592      2.8782         3.9158              0.0762\n",
      "14          1.1176      2.0442      2.9091         3.9372              0.0569\n",
      "15          1.0877      2.0330      2.9322         3.9531              0.0424\n",
      "16          1.0655      2.0246      2.9494         3.9650              0.0317\n",
      "17          1.0488      2.0184      2.9622         3.9739              0.0236\n",
      "18          1.0365      2.0137      2.9718         3.9805              0.0176\n",
      "19          1.0272      2.0102      2.9790         3.9855              0.0132\n",
      "20          1.0203      2.0076      2.9843         3.9892              0.0098\n",
      "21          1.0151      2.0057      2.9883         3.9919              0.0073\n",
      "22          1.0113      2.0042      2.9913         3.9940              0.0055\n",
      "23          1.0084      2.0032      2.9935         3.9955              0.0041\n",
      "Sudah Konvergen!\n",
      "Didapatkan X1 = 1.0084, X2 = 2.0032, X3 = 2.9935, X4 = 3.9955\n"
     ]
    }
   ],
   "source": [
    "print(\"Iterasi     X1          X2          X3             X4              Epsilon Error\")\n",
    "# Deklarasi i untuk iterasi.\n",
    "i = 1\n",
    "\n",
    "# Gauss Seidel\n",
    "while True:\n",
    "    X1 = (-X2-2*X3-2*X4+19)/3\n",
    "    X2 = (-X1-X3-X4+12)/2\n",
    "    X3 = (-2*X1-X2+X4+12)/4\n",
    "    X4 = (-2*X1-X2-X3+19)/3\n",
    "    xNew = np.array([X1, X2, X3, X4])\n",
    "\n",
    "    currEpsilon = np.sqrt(np.dot(xNew-xOld, xNew - xOld))\n",
    "    print(\"%2d          %.4f      %.4f      %.4f         %.4f              %.4f\" %\n",
    "          (i, X1, X2, X3, X4, currEpsilon))\n",
    "\n",
    "    if(currEpsilon < epsilon):\n",
    "        converged = True\n",
    "        print(\"Sudah Konvergen!\")\n",
    "        break\n",
    "\n",
    "    xOld = xNew\n",
    "    i = i + 1\n",
    "\n",
    "if not converged:\n",
    "    print(\"Tidak Konvergen!\")\n",
    "else:\n",
    "    print(\"Didapatkan X1 = %.4f, X2 = %.4f, X3 = %.4f, X4 = %.4f\" %\n",
    "          (X1, X2, X3, X4))\n"
   ]
  }
 ],
 "metadata": {
  "interpreter": {
   "hash": "2a8ced271ea206e3b8e070260ef4c0de149a6599eac91aef09d146a816abd765"
  },
  "kernelspec": {
   "display_name": "Python 3.9.7 ('base')",
   "language": "python",
   "name": "python3"
  },
  "language_info": {
   "codemirror_mode": {
    "name": "ipython",
    "version": 3
   },
   "file_extension": ".py",
   "mimetype": "text/x-python",
   "name": "python",
   "nbconvert_exporter": "python",
   "pygments_lexer": "ipython3",
   "version": "3.9.7"
  },
  "orig_nbformat": 4
 },
 "nbformat": 4,
 "nbformat_minor": 2
}
