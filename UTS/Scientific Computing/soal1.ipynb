{
 "cells": [
  {
   "cell_type": "code",
   "execution_count": 38,
   "metadata": {},
   "outputs": [
    {
     "name": "stdout",
     "output_type": "stream",
     "text": [
      "[3 2 4 3]\n",
      "[5 3 4 4]\n",
      "bukan\n"
     ]
    }
   ],
   "source": [
    "import numpy as np\n",
    "a = np.array([\n",
    "    [3, 1, 2, 2],\n",
    "    [1, 2, 1, 1],\n",
    "    [2, 1, 4, -1],\n",
    "    [2, 1, 1, 3],\n",
    "])\n",
    "\n",
    "diagonal = np.diagonal(np.abs(a))  # elemen diagonal absolute\n",
    "# print(diagonal)  # print element diagonal\n",
    "print(diagonal)\n",
    "off_diag = np.sum(np.abs(a), axis=1) - diagonal  # cek sisanya selain diagonal\n",
    "# print(off_diag <= diagonal)\n",
    "print(off_diag)\n",
    "if np.all(off_diag < diagonal):\n",
    "    print(\"bener\")\n",
    "else:\n",
    "    print(\"bukan\")\n",
    "\n",
    "# bukan diagonal matrix tapi???"
   ]
  },
  {
   "cell_type": "code",
   "execution_count": 39,
   "metadata": {},
   "outputs": [],
   "source": [
    "# Gauss Seidel Iteration Variabel Declaration\n",
    "\n",
    "x1 = 0\n",
    "x2 = 0\n",
    "x3 = 0\n",
    "x4 = 0\n",
    "epsilon = 0.01\n",
    "converged = False\n",
    "xOld = np.array([x1, x2, x3, x4])\n"
   ]
  },
  {
   "cell_type": "markdown",
   "metadata": {},
   "source": [
    "8x + 3y - 3z = 14\n",
    "-2x - 8y + 5z = 5\n",
    "3x + 5y + 10z = -8"
   ]
  },
  {
   "cell_type": "code",
   "execution_count": 40,
   "metadata": {},
   "outputs": [
    {
     "name": "stdout",
     "output_type": "stream",
     "text": [
      "i     x1      x2      x3\n",
      "1     6.3333      2.8333      -0.8750         1.4583\n",
      "2     5.0000      3.2083      0.0625         1.9097\n",
      "3     3.9491      3.0394      0.7431         2.4398\n",
      "4     3.1983      2.8094      1.3084         2.8285\n",
      "5     2.6389      2.6121      1.7347         3.1252\n",
      "6     2.2228      2.4587      2.0552         3.3468\n",
      "7     1.9124      2.3428      2.2948         3.5125\n",
      "8     1.6808      2.2559      2.4738         3.6362\n",
      "9     1.5080      2.1910      2.6073         3.7285\n",
      "10     1.3791      2.1425      2.7069         3.7974\n",
      "11     1.2829      2.1064      2.7813         3.8488\n",
      "12     1.2111      2.0794      2.8368         3.8872\n",
      "13     1.1575      2.0592      2.8782         3.9158\n",
      "14     1.1176      2.0442      2.9091         3.9372\n",
      "15     1.0877      2.0330      2.9322         3.9531\n",
      "16     1.0655      2.0246      2.9494         3.9650\n",
      "17     1.0488      2.0184      2.9622         3.9739\n",
      "18     1.0365      2.0137      2.9718         3.9805\n",
      "19     1.0272      2.0102      2.9790         3.9855\n",
      "20     1.0203      2.0076      2.9843         3.9892\n",
      "Converged!\n"
     ]
    }
   ],
   "source": [
    "# Start Gauss Seidel Iteration\n",
    "\n",
    "print(\"i     x1      x2      x3\")\n",
    "i = 1\n",
    "x_array = []  # sumbu x\n",
    "dy_array = []  # sumbu y\n",
    "\n",
    "while True:\n",
    "    x1 = (-x2-2*x3-2*x4+19)/3\n",
    "    x2 = (-x1-x3-x4+12)/2\n",
    "    x3 = (-2*x1-x2+x4+12)/4\n",
    "    x4 = (-2*x1-x2-x3+19)/3\n",
    "    xNew = np.array([x1, x2, x3, x4])\n",
    "\n",
    "    currEpsilon = np.sqrt(np.dot(xNew-xOld, xNew - xOld))\n",
    "    x_array.append(i)\n",
    "    dy_array.append(currEpsilon)\n",
    "    print(\"%d     %.4f      %.4f      %.4f         %.4f\" % (i, x1, x2, x3, x4))\n",
    "\n",
    "    if(currEpsilon < epsilon):\n",
    "        converged = True\n",
    "        print(\"Converged!\")\n",
    "        break\n",
    "\n",
    "    xOld = xNew\n",
    "    i = i + 1\n",
    "\n",
    "if not converged:\n",
    "    print('gak')\n"
   ]
  },
  {
   "cell_type": "code",
   "execution_count": 41,
   "metadata": {},
   "outputs": [
    {
     "data": {
      "image/png": "[encoded data removed]",
      "text/plain": [
       "<Figure size 432x288 with 1 Axes>"
      ]
     },
     "metadata": {
      "needs_background": "light"
     },
     "output_type": "display_data"
    }
   ],
   "source": [
    "import matplotlib.pyplot as plt\n",
    "\n",
    "# print(x_array)\n",
    "# print(dy_array)\n",
    "plt.plot(x_array, dy_array)\n",
    "plt.title(\"Testing Lab\")\n",
    "plt.xlabel(\"x\")\n",
    "plt.ylabel(\"y\")\n",
    "plt.show()"
   ]
  },
  {
   "cell_type": "code",
   "execution_count": 42,
   "metadata": {},
   "outputs": [
    {
     "ename": "ValueError",
     "evalue": "solve1: Input operand 1 has a mismatch in its core dimension 0, with gufunc signature (m,m),(m)->(m) (size 3 is different from 4)",
     "output_type": "error",
     "traceback": [
      "\u001b[1;31m---------------------------------------------------------------------------\u001b[0m",
      "\u001b[1;31mValueError\u001b[0m                                Traceback (most recent call last)",
      "\u001b[1;32m~\\AppData\\Local\\Temp/ipykernel_19384/4097890793.py\u001b[0m in \u001b[0;36m<module>\u001b[1;34m\u001b[0m\n\u001b[0;32m      6\u001b[0m \u001b[0my\u001b[0m \u001b[1;33m=\u001b[0m \u001b[0mnp\u001b[0m\u001b[1;33m.\u001b[0m\u001b[0marray\u001b[0m\u001b[1;33m(\u001b[0m\u001b[1;33m[\u001b[0m\u001b[1;36m14\u001b[0m\u001b[1;33m,\u001b[0m \u001b[1;36m5\u001b[0m\u001b[1;33m,\u001b[0m \u001b[1;33m-\u001b[0m\u001b[1;36m8\u001b[0m\u001b[1;33m]\u001b[0m\u001b[1;33m)\u001b[0m\u001b[1;33m\u001b[0m\u001b[1;33m\u001b[0m\u001b[0m\n\u001b[0;32m      7\u001b[0m \u001b[1;33m\u001b[0m\u001b[0m\n\u001b[1;32m----> 8\u001b[1;33m \u001b[0mx\u001b[0m \u001b[1;33m=\u001b[0m \u001b[0mnp\u001b[0m\u001b[1;33m.\u001b[0m\u001b[0mlinalg\u001b[0m\u001b[1;33m.\u001b[0m\u001b[0msolve\u001b[0m\u001b[1;33m(\u001b[0m\u001b[0ma\u001b[0m\u001b[1;33m,\u001b[0m \u001b[0my\u001b[0m\u001b[1;33m)\u001b[0m\u001b[1;33m\u001b[0m\u001b[1;33m\u001b[0m\u001b[0m\n\u001b[0m\u001b[0;32m      9\u001b[0m \u001b[0mprint\u001b[0m\u001b[1;33m(\u001b[0m\u001b[0mx\u001b[0m\u001b[1;33m)\u001b[0m\u001b[1;33m\u001b[0m\u001b[1;33m\u001b[0m\u001b[0m\n",
      "\u001b[1;32m<__array_function__ internals>\u001b[0m in \u001b[0;36msolve\u001b[1;34m(*args, **kwargs)\u001b[0m\n",
      "\u001b[1;32m~\\anaconda3\\lib\\site-packages\\numpy\\linalg\\linalg.py\u001b[0m in \u001b[0;36msolve\u001b[1;34m(a, b)\u001b[0m\n\u001b[0;32m    391\u001b[0m     \u001b[0msignature\u001b[0m \u001b[1;33m=\u001b[0m \u001b[1;34m'DD->D'\u001b[0m \u001b[1;32mif\u001b[0m \u001b[0misComplexType\u001b[0m\u001b[1;33m(\u001b[0m\u001b[0mt\u001b[0m\u001b[1;33m)\u001b[0m \u001b[1;32melse\u001b[0m \u001b[1;34m'dd->d'\u001b[0m\u001b[1;33m\u001b[0m\u001b[1;33m\u001b[0m\u001b[0m\n\u001b[0;32m    392\u001b[0m     \u001b[0mextobj\u001b[0m \u001b[1;33m=\u001b[0m \u001b[0mget_linalg_error_extobj\u001b[0m\u001b[1;33m(\u001b[0m\u001b[0m_raise_linalgerror_singular\u001b[0m\u001b[1;33m)\u001b[0m\u001b[1;33m\u001b[0m\u001b[1;33m\u001b[0m\u001b[0m\n\u001b[1;32m--> 393\u001b[1;33m     \u001b[0mr\u001b[0m \u001b[1;33m=\u001b[0m \u001b[0mgufunc\u001b[0m\u001b[1;33m(\u001b[0m\u001b[0ma\u001b[0m\u001b[1;33m,\u001b[0m \u001b[0mb\u001b[0m\u001b[1;33m,\u001b[0m \u001b[0msignature\u001b[0m\u001b[1;33m=\u001b[0m\u001b[0msignature\u001b[0m\u001b[1;33m,\u001b[0m \u001b[0mextobj\u001b[0m\u001b[1;33m=\u001b[0m\u001b[0mextobj\u001b[0m\u001b[1;33m)\u001b[0m\u001b[1;33m\u001b[0m\u001b[1;33m\u001b[0m\u001b[0m\n\u001b[0m\u001b[0;32m    394\u001b[0m \u001b[1;33m\u001b[0m\u001b[0m\n\u001b[0;32m    395\u001b[0m     \u001b[1;32mreturn\u001b[0m \u001b[0mwrap\u001b[0m\u001b[1;33m(\u001b[0m\u001b[0mr\u001b[0m\u001b[1;33m.\u001b[0m\u001b[0mastype\u001b[0m\u001b[1;33m(\u001b[0m\u001b[0mresult_t\u001b[0m\u001b[1;33m,\u001b[0m \u001b[0mcopy\u001b[0m\u001b[1;33m=\u001b[0m\u001b[1;32mFalse\u001b[0m\u001b[1;33m)\u001b[0m\u001b[1;33m)\u001b[0m\u001b[1;33m\u001b[0m\u001b[1;33m\u001b[0m\u001b[0m\n",
      "\u001b[1;31mValueError\u001b[0m: solve1: Input operand 1 has a mismatch in its core dimension 0, with gufunc signature (m,m),(m)->(m) (size 3 is different from 4)"
     ]
    }
   ],
   "source": [
    "# Contoh jika tidak diagonal dominan\n",
    "\n",
    "# Fungsi TERGG DAN TERKEREN (FUNGSI HARAM YGY)\n",
    "A = np.array([[4, 3, -5], [-2, -4, 5], [8, 8, 0]])\n",
    "# Variabel kanan (Hasil)\n",
    "y = np.array([14, 5, -8])\n",
    "\n",
    "x = np.linalg.solve(a, y)\n",
    "print(x)\n"
   ]
  }
 ],
 "metadata": {
  "interpreter": {
   "hash": "2a8ced271ea206e3b8e070260ef4c0de149a6599eac91aef09d146a816abd765"
  },
  "kernelspec": {
   "display_name": "Python 3.9.7 ('base')",
   "language": "python",
   "name": "python3"
  },
  "language_info": {
   "codemirror_mode": {
    "name": "ipython",
    "version": 3
   },
   "file_extension": ".py",
   "mimetype": "text/x-python",
   "name": "python",
   "nbconvert_exporter": "python",
   "pygments_lexer": "ipython3",
   "version": "3.9.7"
  },
  "orig_nbformat": 4
 },
 "nbformat": 4,
 "nbformat_minor": 2
}
