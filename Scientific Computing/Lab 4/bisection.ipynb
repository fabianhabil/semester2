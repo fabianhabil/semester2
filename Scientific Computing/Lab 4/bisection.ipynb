{
 "cells": [
  {
   "cell_type": "code",
   "execution_count": 91,
   "metadata": {},
   "outputs": [],
   "source": [
    "import numpy as np\n",
    "import matplotlib.pyplot as plt\n",
    "plt.style.use('seaborn-poster')"
   ]
  },
  {
   "cell_type": "code",
   "execution_count": 92,
   "metadata": {},
   "outputs": [],
   "source": [
    "def bisection(f, left, right, epsilon):\n",
    "    mid = 0\n",
    "    if f(left) * f(right) > 0:\n",
    "        return \"None\"\n",
    "    while abs(f(left) - f(right)) >= epsilon:\n",
    "        mid = (left + right) / 2\n",
    "        if f(mid) * f(right) < 0:\n",
    "            left = mid\n",
    "        else:\n",
    "            right = mid\n",
    "    return mid"
   ]
  },
  {
   "cell_type": "code",
   "execution_count": 93,
   "metadata": {},
   "outputs": [
    {
     "name": "stdout",
     "output_type": "stream",
     "text": [
      "2.288818359375e-05\n"
     ]
    }
   ],
   "source": [
    "# x^2 + 2x + 1\n",
    "func = lambda x: (3 * (x**3)) - (x**2) + (4 * x)\n",
    "# func = lambda x: np.sin(x)\n",
    "epsilon = 1e-4\n",
    "hasil = bisection(func, 0, 6, epsilon)\n",
    "print(hasil)"
   ]
  }
 ],
 "metadata": {
  "interpreter": {
   "hash": "df2b94bbdcee7216ada73f8eac6c2e25f24762b3bb103cfdec29e47ece9b3cb1"
  },
  "kernelspec": {
   "display_name": "Python 3.9.7 ('base')",
   "language": "python",
   "name": "python3"
  },
  "language_info": {
   "codemirror_mode": {
    "name": "ipython",
    "version": 3
   },
   "file_extension": ".py",
   "mimetype": "text/x-python",
   "name": "python",
   "nbconvert_exporter": "python",
   "pygments_lexer": "ipython3",
   "version": "3.9.7"
  },
  "orig_nbformat": 4
 },
 "nbformat": 4,
 "nbformat_minor": 2
}
