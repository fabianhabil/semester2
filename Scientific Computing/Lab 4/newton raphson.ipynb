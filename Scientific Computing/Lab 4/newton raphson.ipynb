{
 "cells": [
  {
   "cell_type": "code",
   "execution_count": 16,
   "metadata": {},
   "outputs": [],
   "source": [
    "import numpy as np\n",
    "import matplotlib.pyplot as plt\n",
    "plt.style.use('seaborn-poster')"
   ]
  },
  {
   "cell_type": "code",
   "execution_count": 17,
   "metadata": {},
   "outputs": [],
   "source": [
    "def newtonRaphson(f, df, x ,epsilon):\n",
    "    dx = 99\n",
    "    while abs(dx) >= epsilon:\n",
    "        dx = -f(x) / df(x)\n",
    "        x = x + dx\n",
    "    return x"
   ]
  },
  {
   "cell_type": "code",
   "execution_count": 18,
   "metadata": {},
   "outputs": [
    {
     "name": "stdout",
     "output_type": "stream",
     "text": [
      "-2.543143632237132e-15\n"
     ]
    }
   ],
   "source": [
    "func = lambda x: (3 * (x**3)) - (x**2) + (4 * x)\n",
    "dfunc = lambda x: (9 * (x ** 2)) - (2 * x) + 4\n",
    "epsilon = 1e-4\n",
    "\n",
    "hasil = newtonRaphson(\n",
    "    func,\n",
    "    dfunc,\n",
    "    6,\n",
    "    epsilon\n",
    ")\n",
    "print(hasil)"
   ]
  }
 ],
 "metadata": {
  "interpreter": {
   "hash": "df2b94bbdcee7216ada73f8eac6c2e25f24762b3bb103cfdec29e47ece9b3cb1"
  },
  "kernelspec": {
   "display_name": "Python 3.9.7 ('base')",
   "language": "python",
   "name": "python3"
  },
  "language_info": {
   "codemirror_mode": {
    "name": "ipython",
    "version": 3
   },
   "file_extension": ".py",
   "mimetype": "text/x-python",
   "name": "python",
   "nbconvert_exporter": "python",
   "pygments_lexer": "ipython3",
   "version": "3.9.7"
  },
  "orig_nbformat": 4
 },
 "nbformat": 4,
 "nbformat_minor": 2
}
