{
 "cells": [
  {
   "cell_type": "code",
   "execution_count": 2,
   "metadata": {},
   "outputs": [
    {
     "name": "stdout",
     "output_type": "stream",
     "text": [
      "riemaan kecepetan di t=2 dan: 2.9998322069759897\n",
      "Trapezoid kecepatan di t=2 dan: [2.9998649]\n",
      "simpson's kecepatan di t=2 dan: 2.6665758314646\n",
      "\n",
      "\n",
      "riemaan kecepetan di t=4 dan: 5.99828767618815\n",
      "Trapezoid kecepatan di t=4 dan: [5.99891837]\n",
      "simpson's kecepatan di t=4 dan: 5.332723615451388\n",
      "\n",
      "\n",
      "riemaan kecepetan di t=6 dan: 8.93528967335391\n",
      "Trapezoid kecepatan di t=6 dan: [8.96650916]\n",
      "simpson's kecepatan di t=6 dan: 7.9787626959822955\n",
      "\n",
      "\n",
      "riemaan kecepetan di t=8 dan: inf\n",
      "Trapezoid kecepatan di t=8 dan: [inf]\n",
      "simpson's kecepatan di t=8 dan: inf\n",
      "\n",
      "\n",
      "riemaan kecepetan di t=10 dan: 14.311644972766803\n",
      "Trapezoid kecepatan di t=10 dan: [14.25951078]\n",
      "simpson's kecepatan di t=10 dan: 13.365945738428657\n",
      "\n",
      "\n",
      "riemaan kecepetan di t=12 dan: inf\n",
      "Trapezoid kecepatan di t=12 dan: [inf]\n",
      "simpson's kecepatan di t=12 dan: 15.9959716796875\n",
      "\n",
      "\n",
      "riemaan kecepetan di t=14 dan: 22.096682012174213\n",
      "Trapezoid kecepatan di t=14 dan: [22.09631074]\n",
      "simpson's kecepatan di t=14 dan: 18.65160429702682\n",
      "\n",
      "\n",
      "riemaan kecepetan di t=16 dan: 24.000162760416664\n",
      "Trapezoid kecepatan di t=16 dan: [24.]\n",
      "simpson's kecepatan di t=16 dan: 21.28049045138889\n",
      "\n",
      "\n",
      "riemaan kecepetan di t=18 dan: 26.818419375\n",
      "Trapezoid kecepatan di t=18 dan: [26.81829782]\n",
      "simpson's kecepatan di t=18 dan: 23.74983689453125\n",
      "\n",
      "\n",
      "riemaan kecepetan di t=20 dan: 28.419540494230713\n",
      "Trapezoid kecepatan di t=20 dan: [28.41942537]\n",
      "simpson's kecepatan di t=20 dan: 24.557097146758544\n",
      "\n",
      "\n"
     ]
    },
    {
     "name": "stderr",
     "output_type": "stream",
     "text": [
      "C:\\Users\\fabian\\AppData\\Local\\Temp/ipykernel_8864/3651315321.py:31: RuntimeWarning: divide by zero encountered in double_scalars\n",
      "  f = lambda x: (1/(x-8)**5) + 1.5\n",
      "C:\\Users\\fabian\\AppData\\Local\\Temp/ipykernel_8864/3651315321.py:31: RuntimeWarning: divide by zero encountered in true_divide\n",
      "  f = lambda x: (1/(x-8)**5) + 1.5\n",
      "C:\\Users\\fabian\\AppData\\Local\\Temp/ipykernel_8864/3651315321.py:24: RuntimeWarning: divide by zero encountered in true_divide\n",
      "  f1 = (1/((x)-8)**5) + 1.5\n"
     ]
    },
    {
     "data": {
      "image/png": "[encoded data removed]",
      "text/plain": [
       "<Figure size 576x432 with 1 Axes>"
      ]
     },
     "metadata": {
      "needs_background": "light"
     },
     "output_type": "display_data"
    }
   ],
   "source": [
    "import numpy as np\n",
    "import math\n",
    "import matplotlib.pyplot as plt\n",
    "def right_riemann(f, a, d, n):\n",
    "  h = (d - a) / (n - 1)\n",
    "  x = np.linspace(a, d, n)\n",
    "  y = 0\n",
    "  for i in x[1::]:\n",
    "    y += h * f(i)\n",
    "  return y\n",
    "\n",
    "def trapezoid(f, a, d, n):\n",
    "  h = (d-a) / (n-1)\n",
    "  x = np.linspace(a, d, n)\n",
    "  n = 0\n",
    "  for i in x[1:n-1]:\n",
    "    n += f(i)\n",
    "  y = (f(x[0:1]) + (2*n) + f(x[-1::])) * (h/2)\n",
    "  return y\n",
    "\n",
    "def simpson( a, d, n):\n",
    "  x = np.linspace(a, d, n)\n",
    "  h = (d-a) / (n-1)\n",
    "  f1 = (1/((x)-8)**5) + 1.5\n",
    "  i_simp = (h / 3) * (f1[0] + (4 * sum(f1[1:n-1:2]) + (2 * sum(f1[:n-2:2]))) + f1[n-1])\n",
    "  err_simp = 2 - i_simp\n",
    "  return i_simp\n",
    "\n",
    "def func(x):\n",
    "  return (1/(x-8)**5) + 1.5\n",
    "f = lambda x: (1/(x-8)**5) + 1.5\n",
    "t = [2,4,6,8,10,12,14,16,18,20]\n",
    "a = 0\n",
    "d = 14\n",
    "n = 4\n",
    "for i in t:\n",
    "  y = right_riemann(f, a, i, n)\n",
    "  y2 = trapezoid(f, a, i, n)\n",
    "  y3 = simpson(a, i, n)\n",
    "  print(f\"riemaan kecepetan di t={i} dan: {y}\")\n",
    "  print(f\"Trapezoid kecepatan di t={i} dan: {y2}\")\n",
    "  print(f\"simpson's kecepatan di t={i} dan: {y3}\")\n",
    "  print(\"\\n\")\n",
    "from scipy.integrate import cumtrapz\n",
    "import matplotlib.pyplot as plt\n",
    "%matplotlib inline\n",
    "plt.style.use(\"seaborn-poster\")\n",
    "f = lambda x: (1/(x-8)**5) + 1.5\n",
    "t = np.linspace(2,14,2)\n",
    "v = right_riemann(f, 0, t, 4)\n",
    "plt.figure(figsize = (8, 6))\n",
    "plt.plot(t, v, 'b', )\n",
    "plt.xlabel('t(s)')\n",
    "plt.ylabel('v (m/s)')\n",
    "plt.title('right riemman')\n",
    "plt.show()"
   ]
  }
 ],
 "metadata": {
  "interpreter": {
   "hash": "df2b94bbdcee7216ada73f8eac6c2e25f24762b3bb103cfdec29e47ece9b3cb1"
  },
  "kernelspec": {
   "display_name": "Python 3.9.7 ('base')",
   "language": "python",
   "name": "python3"
  },
  "language_info": {
   "codemirror_mode": {
    "name": "ipython",
    "version": 3
   },
   "file_extension": ".py",
   "mimetype": "text/x-python",
   "name": "python",
   "nbconvert_exporter": "python",
   "pygments_lexer": "ipython3",
   "version": "3.9.7"
  },
  "orig_nbformat": 4
 },
 "nbformat": 4,
 "nbformat_minor": 2
}
