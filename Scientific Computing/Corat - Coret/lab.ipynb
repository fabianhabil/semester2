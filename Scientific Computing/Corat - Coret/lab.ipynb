{
 "cells": [
  {
   "cell_type": "code",
   "execution_count": 146,
   "metadata": {},
   "outputs": [
    {
     "name": "stdout",
     "output_type": "stream",
     "text": [
      "bener\n"
     ]
    }
   ],
   "source": [
    "import numpy as np\n",
    "a = np.array([[8, 3, -3], [-2, -8, 5], [3, 5, 10]])\n",
    "\n",
    "diagonal = np.diagonal(np.abs(a))  # elemen diagonal absolute\n",
    "# print(diagonal)  # print element diagonal\n",
    "\n",
    "off_diag = np.sum(np.abs(a), axis=1) - diagonal  # cek sisanya selain diagonal\n",
    "# print(off_diag <= diagonal)\n",
    "\n",
    "if np.all(off_diag < diagonal):\n",
    "    print(\"bener\")\n",
    "else:\n",
    "    print(\"bukan\")\n"
   ]
  },
  {
   "cell_type": "code",
   "execution_count": 147,
   "metadata": {},
   "outputs": [],
   "source": [
    "# Gauss Seidel Iteration Variabel Declaration\n",
    "\n",
    "x1 = 50\n",
    "x2 = 50\n",
    "x3 = 50\n",
    "epsilon = 0.001\n",
    "converged = False\n",
    "xOld = np.array([x1, x2, x3])"
   ]
  },
  {
   "cell_type": "markdown",
   "metadata": {},
   "source": [
    "8x + 3y - 3z = 14\n",
    "-2x - 8y + 5z = 5\n",
    "3x + 5y + 10z = -8"
   ]
  },
  {
   "cell_type": "code",
   "execution_count": 148,
   "metadata": {},
   "outputs": [
    {
     "name": "stdout",
     "output_type": "stream",
     "text": [
      "i     x1      x2      x3\n",
      "1     1.7500      30.1875      -16.4187\n",
      "2     -15.7273      -6.9549      7.3956\n",
      "3     7.1314      2.2144      -4.0466\n",
      "4     -0.5979      -3.0047      0.8817\n",
      "5     3.2074      -0.8758      -1.3243\n",
      "6     1.5818      -1.8482      -0.3505\n",
      "7     2.3116      -1.4219      -0.7825\n",
      "8     1.9898      -1.6115      -0.5912\n",
      "9     2.1326      -1.5276      -0.6760\n",
      "10     2.0694      -1.5648      -0.6384\n",
      "11     2.0974      -1.5484      -0.6550\n",
      "12     2.0850      -1.5557      -0.6477\n",
      "13     2.0905      -1.5524      -0.6509\n",
      "14     2.0881      -1.5539      -0.6495\n",
      "15     2.0891      -1.5532      -0.6501\n",
      "16     2.0887      -1.5535      -0.6498\n",
      "Converged!\n"
     ]
    }
   ],
   "source": [
    "# Start Gauss Seidel Iteration\n",
    "\n",
    "print(\"i     x1      x2      x3\")\n",
    "i = 1\n",
    "x_array = []  # sumbu x\n",
    "dy_array = []  # sumbu y\n",
    "\n",
    "while True:\n",
    "    x1 = (14 - 3*x2 + 3*x3) / 8\n",
    "    x2 = (5 + 2*x1 - 5*x3) / (-8)\n",
    "    x3 = (-8 - 3*x1 - 5 * x2) / 10\n",
    "    xNew = np.array([x1, x2, x3])\n",
    "\n",
    "    currEpsilon = np.sqrt(np.dot(xNew-xOld, xNew - xOld))\n",
    "    x_array.append(i)\n",
    "    dy_array.append(currEpsilon)\n",
    "    print(\"%d     %.4f      %.4f      %.4f\" % (i, x1, x2, x3))\n",
    "\n",
    "    if(currEpsilon < epsilon):\n",
    "        converged = True\n",
    "        print(\"Converged!\")\n",
    "        break\n",
    "\n",
    "    xOld = xNew\n",
    "    i = i + 1\n",
    "\n",
    "if not converged:\n",
    "    print('gak')\n"
   ]
  },
  {
   "cell_type": "code",
   "execution_count": 149,
   "metadata": {},
   "outputs": [
    {
     "data": {
      "image/png": "[encoded data removed]",
      "text/plain": [
       "<Figure size 432x288 with 1 Axes>"
      ]
     },
     "metadata": {
      "needs_background": "light"
     },
     "output_type": "display_data"
    }
   ],
   "source": [
    "import matplotlib.pyplot as plt\n",
    "\n",
    "# print(x_array)\n",
    "# print(dy_array)\n",
    "plt.plot(x_array, dy_array)\n",
    "plt.title(\"Testing Lab\")\n",
    "plt.xlabel(\"x\")\n",
    "plt.ylabel(\"y\")\n",
    "plt.show()"
   ]
  },
  {
   "cell_type": "code",
   "execution_count": 150,
   "metadata": {},
   "outputs": [
    {
     "name": "stdout",
     "output_type": "stream",
     "text": [
      "[ 2.08880309 -1.55341055 -0.64993565]\n"
     ]
    }
   ],
   "source": [
    "# Contoh jika tidak diagonal dominan\n",
    "\n",
    "# Fungsi TERGG DAN TERKEREN (FUNGSI HARAM YGY)\n",
    "A = np.array([[4, 3, -5], [-2, -4, 5], [8, 8, 0]])\n",
    "# Variabel kanan (Hasil)\n",
    "y = np.array([14, 5, -8])\n",
    "\n",
    "x = np.linalg.solve(a, y)\n",
    "print(x)\n"
   ]
  }
 ],
 "metadata": {
  "interpreter": {
   "hash": "2a8ced271ea206e3b8e070260ef4c0de149a6599eac91aef09d146a816abd765"
  },
  "kernelspec": {
   "display_name": "Python 3.9.7 ('base')",
   "language": "python",
   "name": "python3"
  },
  "language_info": {
   "codemirror_mode": {
    "name": "ipython",
    "version": 3
   },
   "file_extension": ".py",
   "mimetype": "text/x-python",
   "name": "python",
   "nbconvert_exporter": "python",
   "pygments_lexer": "ipython3",
   "version": "3.9.7"
  },
  "orig_nbformat": 4
 },
 "nbformat": 4,
 "nbformat_minor": 2
}
