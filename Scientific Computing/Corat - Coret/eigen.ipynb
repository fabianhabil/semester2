{
 "cells": [
  {
   "cell_type": "code",
   "execution_count": 142,
   "metadata": {},
   "outputs": [],
   "source": [
    "import numpy as np"
   ]
  },
  {
   "cell_type": "code",
   "execution_count": 143,
   "metadata": {},
   "outputs": [],
   "source": [
    "#fungsi untuk mencari faktor terbesar dari suatu eigen vector\n",
    "def normalize(x):\n",
    "    fac = abs(x).max()\n",
    "    x_n = x / x.max()\n",
    "\n",
    "    return fac, x_n"
   ]
  },
  {
   "cell_type": "code",
   "execution_count": 144,
   "metadata": {},
   "outputs": [],
   "source": [
    "# inisiasi eigen vector\n",
    "a = np.array([[0, 2],\n",
    "              [2, 3]])\n",
    "x = np.array([1, 1]) #tebakan awal"
   ]
  },
  {
   "cell_type": "code",
   "execution_count": 145,
   "metadata": {},
   "outputs": [
    {
     "name": "stdout",
     "output_type": "stream",
     "text": [
      "4.0000127156898895\n",
      "[0.49999841 1.        ]\n"
     ]
    }
   ],
   "source": [
    "# cari eigen value terbesar dan eigen vectornya\n",
    "lambda_old = 0\n",
    "diff = 999\n",
    "while diff > 1e-4:\n",
    "    x = np.dot(a, x)\n",
    "    eigenVal, x = normalize(x)\n",
    "    diff = abs(eigenVal - lambda_old)\n",
    "    lambda_old = eigenVal\n",
    "\n",
    "print(eigenVal)\n",
    "# eigen vector\n",
    "print(x)\n"
   ]
  },
  {
   "cell_type": "code",
   "execution_count": 146,
   "metadata": {},
   "outputs": [
    {
     "name": "stdout",
     "output_type": "stream",
     "text": [
      "0.2631578947365262\n",
      "[0.4 1. ]\n"
     ]
    }
   ],
   "source": [
    "# cari eigen value terkecil dan eigen vectornya\n",
    "\n",
    "from numpy.linalg import inv  # inverse\n",
    "a_inv = inv(a)\n",
    "\n",
    "for i in range(8):\n",
    "    x = np.dot(x, a_inv)\n",
    "    eigenVal, x = normalize(x)\n",
    "\n",
    "print(eigenVal)\n",
    "# eigen vector\n",
    "print(x)"
   ]
  },
  {
   "cell_type": "code",
   "execution_count": 147,
   "metadata": {},
   "outputs": [
    {
     "name": "stdout",
     "output_type": "stream",
     "text": [
      "Eigenvalue:  [-1.  4.]\n",
      "Eigenvector:  [[-0.89442719 -0.4472136 ]\n",
      " [ 0.4472136  -0.89442719]]\n"
     ]
    }
   ],
   "source": [
    "# mencari eigen value dan eigen vector\n",
    "from numpy.linalg import eig  # eigen\n",
    "A = np.array([[0, 2],\n",
    "              [2, 3]])\n",
    "eigenVal, eigenVect = eig(A)\n",
    "print(\"Eigenvalue: \", eigenVal)\n",
    "print(\"Eigenvector: \", eigenVect)"
   ]
  }
 ],
 "metadata": {
  "interpreter": {
   "hash": "2a8ced271ea206e3b8e070260ef4c0de149a6599eac91aef09d146a816abd765"
  },
  "kernelspec": {
   "display_name": "Python 3.9.7 ('base')",
   "language": "python",
   "name": "python3"
  },
  "language_info": {
   "codemirror_mode": {
    "name": "ipython",
    "version": 3
   },
   "file_extension": ".py",
   "mimetype": "text/x-python",
   "name": "python",
   "nbconvert_exporter": "python",
   "pygments_lexer": "ipython3",
   "version": "3.9.7"
  },
  "orig_nbformat": 4
 },
 "nbformat": 4,
 "nbformat_minor": 2
}
