{
 "cells": [
  {
   "cell_type": "markdown",
   "metadata": {},
   "source": [
    "## Dataset"
   ]
  },
  {
   "cell_type": "code",
   "execution_count": 73,
   "metadata": {},
   "outputs": [],
   "source": [
    "x = [200, 300, 400, 640, 540, 580]        # interpolasi saat x = 350\n",
    "y = [2500, 2800, 3100, 3820, 3220, 3640]"
   ]
  },
  {
   "cell_type": "code",
   "execution_count": 74,
   "metadata": {},
   "outputs": [
    {
     "name": "stdout",
     "output_type": "stream",
     "text": [
      "[0 1 2 4 5 3]\n",
      "[200 300 400 540 580 640]\n",
      "[2500 2800 3100 3220 3640 3820]\n"
     ]
    }
   ],
   "source": [
    "import numpy as np\n",
    "\n",
    "order = np.argsort(x)\n",
    "x_sort = np.array(x)[order]\n",
    "y_sort = np.array(y)[order]\n",
    "\n",
    "print(order)\n",
    "print(x_sort)\n",
    "print(y_sort)"
   ]
  },
  {
   "cell_type": "markdown",
   "metadata": {},
   "source": [
    "## Linear Interpolation"
   ]
  },
  {
   "cell_type": "code",
   "execution_count": 75,
   "metadata": {},
   "outputs": [
    {
     "name": "stdout",
     "output_type": "stream",
     "text": [
      "Interpolasi di x = 500 adalah 3185.714285714286\n"
     ]
    }
   ],
   "source": [
    "from scipy.interpolate import interp1d\n",
    "\n",
    "f = interp1d(x_sort, y_sort)\n",
    "\n",
    "# f(x) adalah interpolation untuk x\n",
    "x_test = 500\n",
    "y_test = f(x_test)\n",
    "\n",
    "print(f\"Interpolasi di x = {x_test} adalah {y_test}\")\n"
   ]
  },
  {
   "cell_type": "code",
   "execution_count": 76,
   "metadata": {},
   "outputs": [
    {
     "data": {
      "image/png": "[encoded data removed]",
      "text/plain": [
       "<Figure size 432x288 with 1 Axes>"
      ]
     },
     "metadata": {
      "needs_background": "light"
     },
     "output_type": "display_data"
    }
   ],
   "source": [
    "import matplotlib.pyplot as plt\n",
    "\n",
    "plt.plot(x_sort, y_sort, 'c-')    # cyan, line\n",
    "plt.plot(x, y, 'bo')              # blue, titik\n",
    "plt.plot(x_test, y_test, 'ro')    # red, titik (dot)\n",
    "plt.show()"
   ]
  },
  {
   "cell_type": "markdown",
   "metadata": {},
   "source": [
    "## Quadratic Interpolation (Newton's Polynom)"
   ]
  },
  {
   "cell_type": "code",
   "execution_count": 77,
   "metadata": {},
   "outputs": [],
   "source": [
    "# dari buku, ikutin aja\n",
    "import numpy as np\n",
    "import matplotlib.pyplot as plt\n",
    "\n",
    "\n",
    "def divided_diff(x, y):\n",
    "    n = len(y)\n",
    "    coef = np.zeros([n, n])\n",
    "    coef[:, 0] = y\n",
    "    for j in range(1, n):\n",
    "        for i in range(n-j):\n",
    "            coef[i][j] = \\\n",
    "                (coef[i+1][j-1] - coef[i][j-1]) / (x[i+j]-x[i])\n",
    "\n",
    "    return coef\n",
    "\n",
    "\n",
    "def newton_poly(coef, x_data, x):\n",
    "    n = len(x_data) - 1\n",
    "    p = coef[n]\n",
    "    for k in range(1, n+1):\n",
    "        p = coef[n-k] + (x - x_data[n-k])*p\n",
    "    return p\n"
   ]
  },
  {
   "cell_type": "code",
   "execution_count": 78,
   "metadata": {},
   "outputs": [
    {
     "name": "stdout",
     "output_type": "stream",
     "text": [
      "Ketemu di 150\n",
      "Interpolasi di x = 350 adalah 3114.2102153361348\n"
     ]
    }
   ],
   "source": [
    "x = x_sort\n",
    "y = y_sort\n",
    "\n",
    "# cari div diff\n",
    "\n",
    "# [COPAS]\n",
    "a_s = divided_diff(x, y)[0, :]    # artinya ambil row 1\n",
    "\n",
    "# range adalah [200, 640]\n",
    "# linspace spesifikasikan banyak titik yang kita mau di argumen ke 3\n",
    "# arange spesifikasikan interval titik yang kita mau di argumen ke 3\n",
    "# x_new = np.linspace(200, 640, 441)\n",
    "x_new = np.arange(200, 640, 1)\n",
    "\n",
    "# argumennya : (a_s, x yang ada di data asli, x yang kita mau generate y nya)\n",
    "\n",
    "# [COPAS]\n",
    "y_new = newton_poly(a_s, x, x_new)\n",
    "\n",
    "\n",
    "# cari 350 di x_new\n",
    "# [200, 201, 202, ...]\n",
    "for i in range(0, len(x_new)):\n",
    "  if x_new[i] == 350:\n",
    "    print(f\"Ketemu di {i}\")\n",
    "\n",
    "\n",
    "x_test = x_new[150]\n",
    "y_test = y_new[150]\n",
    "\n",
    "print(f\"Interpolasi di x = {x_test} adalah {y_test}\")\n"
   ]
  },
  {
   "cell_type": "code",
   "execution_count": 79,
   "metadata": {},
   "outputs": [
    {
     "data": {
      "image/png": "[encoded data removed]",
      "text/plain": [
       "<Figure size 432x288 with 1 Axes>"
      ]
     },
     "metadata": {
      "needs_background": "light"
     },
     "output_type": "display_data"
    }
   ],
   "source": [
    "# Banyak titik, hasil interpolasi, (garis, f(x))\n",
    "plt.plot(x_new, y_new, 'c-')  # cyan line\n",
    "\n",
    "# Sebuah titik yang kita mau estimasi\n",
    "plt.plot(x_test, y_test, 'ro')\n",
    "\n",
    "# Beberapa titik dari data\n",
    "plt.plot(x, y, 'bo')          # blue titik\n",
    "\n",
    "\n",
    "plt.show()"
   ]
  },
  {
   "cell_type": "markdown",
   "metadata": {},
   "source": [
    "## Cubic Interpolation (Cubic Spline)"
   ]
  },
  {
   "cell_type": "code",
   "execution_count": 80,
   "metadata": {},
   "outputs": [
    {
     "name": "stdout",
     "output_type": "stream",
     "text": [
      "Interpolasi di x = 350 adalah 2996.307118464916\n"
     ]
    }
   ],
   "source": [
    "from scipy.interpolate import CubicSpline\n",
    "\n",
    "# natural, artinya di data awal dan akhir, nilainya turunan kedua 0\n",
    "# [COPAS]\n",
    "f = CubicSpline(x, y, bc_type='natural')\n",
    "\n",
    "x_test = 350\n",
    "y_test = f(350)\n",
    "\n",
    "print(f\"Interpolasi di x = {x_test} adalah {y_test}\")\n",
    "\n"
   ]
  },
  {
   "cell_type": "code",
   "execution_count": 81,
   "metadata": {},
   "outputs": [
    {
     "data": {
      "image/png": "[encoded data removed]",
      "text/plain": [
       "<Figure size 432x288 with 1 Axes>"
      ]
     },
     "metadata": {
      "needs_background": "light"
     },
     "output_type": "display_data"
    }
   ],
   "source": [
    "x_new = np.linspace(200, 640, 1000)\n",
    "y_new = f(x_new)\n",
    "\n",
    "plt.plot(x_new, y_new, 'c-')\n",
    "plt.plot(x, y, 'bo')\n",
    "plt.plot(x_test, y_test, 'ro')\n",
    "plt.show()"
   ]
  }
 ],
 "metadata": {
  "interpreter": {
   "hash": "b3ba2566441a7c06988d0923437866b63cedc61552a5af99d1f4fb67d367b25f"
  },
  "kernelspec": {
   "display_name": "Python 3.9.7 ('base')",
   "language": "python",
   "name": "python3"
  },
  "language_info": {
   "codemirror_mode": {
    "name": "ipython",
    "version": 3
   },
   "file_extension": ".py",
   "mimetype": "text/x-python",
   "name": "python",
   "nbconvert_exporter": "python",
   "pygments_lexer": "ipython3",
   "version": "3.9.7"
  },
  "orig_nbformat": 4
 },
 "nbformat": 4,
 "nbformat_minor": 2
}
