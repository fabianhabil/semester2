{
 "cells": [
  {
   "cell_type": "markdown",
   "metadata": {},
   "source": [
    "Import Library\n"
   ]
  },
  {
   "cell_type": "code",
   "execution_count": 300,
   "metadata": {},
   "outputs": [],
   "source": [
    "import numpy as np\n"
   ]
  },
  {
   "cell_type": "markdown",
   "metadata": {},
   "source": [
    "Function untuk Gaussian Elimination (No 1)\n"
   ]
  },
  {
   "cell_type": "code",
   "execution_count": 301,
   "metadata": {},
   "outputs": [],
   "source": [
    "def GaussianElimination(i, j):\n",
    "    # Length dari ada berapa persamaan, 3 persamaan = 3 variabel yang berbeda (x1, x2, x3)\n",
    "    x = len(i)\n",
    "    # Forward Elimination\n",
    "    # Jika ada tiga persamaan, maka 2 kali iterate. Maka kita akan iterate sebanyak n-1 persamaan\n",
    "    for n in range(0, x-1):\n",
    "        # Setiap iterate, kita akan menghitung dan eliminasi bawahnya sehingga mendapatkan persamaan tunggal (paling bawah)\n",
    "        for m in range(n+1, x):\n",
    "            if i[m, n] != 0:\n",
    "                # Mencari pembagi nya\n",
    "                multip = i[m, n] / i[n, n]\n",
    "                # X1, X2, X3, ..... Xn dihitung berdasarkan pembagian.\n",
    "                i[m, n + 1:x] = i[m, n+1:x] - multip * i[n, n+1:x]\n",
    "                # Konstanta dari setiap persamaan\n",
    "                j[m] = j[m]-multip * j[n]\n",
    "    # Back Substitution\n",
    "    # Kita iterasi dari belakang, sampai 0\n",
    "    for n in range(x-1, -1, -1):\n",
    "        j[n] = (j[n] - np.dot(i[n, n+1:x], j[n+1:x])) / i[n, n]\n",
    "    return j\n"
   ]
  },
  {
   "cell_type": "markdown",
   "metadata": {},
   "source": [
    "Declare Matriks yang diketahui dan Memanggil Function untuk no 1\n"
   ]
  },
  {
   "cell_type": "code",
   "execution_count": 302,
   "metadata": {},
   "outputs": [
    {
     "name": "stdout",
     "output_type": "stream",
     "text": [
      "Hasil no 1 : \n",
      "[0.05901639 5.57377049 1.84918033]\n",
      "Pembuktian no 1: \n",
      "[0.05901639 5.57377049 1.84918033]\n"
     ]
    }
   ],
   "source": [
    "# Menggunakan Float agar mendapatkan koma di belakang angka.\n",
    "i = np.array([[3, -1, 4],\n",
    "              [17, 2, 1],\n",
    "              [1, 12, -7]],\n",
    "             float)\n",
    "j = np.array([2, 14, 54],\n",
    "             float)\n",
    "\n",
    "pembuktian = np.linalg.solve(i, j)\n",
    "hasilNo1 = GaussianElimination(i, j)\n",
    "print(\"Hasil no 1 : \")\n",
    "print(hasilNo1)\n",
    "print(\"Pembuktian no 1: \")\n",
    "print(pembuktian)\n"
   ]
  },
  {
   "cell_type": "markdown",
   "metadata": {},
   "source": [
    "Function untuk Gauss-Jordan Elimination (No 2)\n"
   ]
  },
  {
   "cell_type": "code",
   "execution_count": 303,
   "metadata": {},
   "outputs": [],
   "source": [
    "def GaussJordanElimination(i):\n",
    "    # Length dari ada berapa persamaan, 3 persamaan = 3 variabel yang berbeda (x1, x2, x3)\n",
    "    x = len(i)\n",
    "    # Iterate sebanyak n + 1 kali karena konstanta dimasukkan menjadi satu matriks\n",
    "    for n in range(x):\n",
    "        # Kita ambil pivot yaitu diagonal utama kita.\n",
    "        # Dan jadikan diagonal utama kita menjadi 1, lalu bagi\n",
    "        # dengan setiap koefisien di setiap persamaan.\n",
    "        pivot = i[n, n]\n",
    "        i[n] = i[n] / pivot\n",
    "\n",
    "        # Kita iterasi lagi sebanyak n + 1 kali, lalu kita 0 kan\n",
    "        # Selain dari diagonal utama persamaan tersebut.\n",
    "        for m in range(x):\n",
    "            # Jika di matriks diagonal\n",
    "            if m == n:\n",
    "                continue\n",
    "            else:\n",
    "                # Mencari pembaginya\n",
    "                multip = i[m, n]\n",
    "                for o in range(n, x+1):\n",
    "                    # Jadikan 0 selain diagonal utama\n",
    "                    i[m, o] = i[m, o] - multip * i[n, o]\n",
    "\n",
    "    # Buat Array baru yang berisi dari hasil / konstanta persamaan\n",
    "    # Ambil hanya index terakhir dari setiap persamaan\n",
    "    # Kenapa x? karena ada 3 persamaan, maka ada 3 variabel\n",
    "    # Lalu kita ambil saja index ke 3, karena index ke 3 adalah\n",
    "    # element ke 4, yaitu konstantanya.\n",
    "    # Maka ambil dari length dari matriks tersebut.\n",
    "    z = np.array(i[:, x])\n",
    "    return z\n"
   ]
  },
  {
   "cell_type": "markdown",
   "metadata": {},
   "source": [
    "Declare Matriks yang diketahui dan Memanggil Function untuk no 2\n"
   ]
  },
  {
   "cell_type": "code",
   "execution_count": 304,
   "metadata": {},
   "outputs": [
    {
     "name": "stdout",
     "output_type": "stream",
     "text": [
      "Hasil no 2 : \n",
      "[0.05901639 5.57377049 1.84918033]\n",
      "Matriks persamaan sekarang:\n",
      "[[1.         0.         0.         0.05901639]\n",
      " [0.         1.         0.         5.57377049]\n",
      " [0.         0.         1.         1.84918033]]\n"
     ]
    }
   ],
   "source": [
    "# Menggunakan Float agar mendapatkan koma di belakang angka.\n",
    "i = np.array([[3, -1, 4, 2],\n",
    "              [17, 2, 1, 14],\n",
    "              [1, 12, -7, 54]],\n",
    "             float)\n",
    "hasilNo2 = GaussJordanElimination(i)\n",
    "print(\"Hasil no 2 : \")\n",
    "print(hasilNo2)\n",
    "print(\"Matriks persamaan sekarang:\")\n",
    "print(i)\n"
   ]
  },
  {
   "cell_type": "markdown",
   "metadata": {},
   "source": [
    "Nomber 3\n"
   ]
  },
  {
   "cell_type": "code",
   "execution_count": 305,
   "metadata": {},
   "outputs": [],
   "source": [
    "# Menggunakan Algoritma Doolittle\n",
    "def LU(i):\n",
    "    x = len(i)\n",
    "    L = np.identity(x)\n",
    "    U = np.zeros_like(i)\n",
    "\n",
    "    for n in range(x):\n",
    "        L[n, n] = 1\n",
    "        U[n, n] = (i[n, n] - np.dot(L[n, :n], U[:n, n])) / L[n, n]\n",
    "        for m in range(n + 1, x):\n",
    "            U[n, m] = (i[n, m] - np.dot(L[n, :n], U[:n, m])) / L[n, n]\n",
    "        for o in range(n + 1, x):\n",
    "            L[o, n] = (i[o, n] - np.dot(L[o, :n], U[:n, n])) / U[n, n]\n",
    "\n",
    "    return L, U\n"
   ]
  },
  {
   "cell_type": "code",
   "execution_count": 306,
   "metadata": {},
   "outputs": [
    {
     "name": "stdout",
     "output_type": "stream",
     "text": [
      "Matriks L\n",
      "[[1.         0.         0.        ]\n",
      " [5.66666667 1.         0.        ]\n",
      " [0.33333333 1.60869565 1.        ]]\n",
      "Matriks U\n",
      "[[  3.          -1.           4.        ]\n",
      " [  0.           7.66666667 -21.66666667]\n",
      " [  0.           0.          26.52173913]]\n"
     ]
    }
   ],
   "source": [
    "import scipy.linalg\n",
    "\n",
    "i = np.array([[3, -1, 4],\n",
    "              [17, 2, 1],\n",
    "              [1, 12, -7]],\n",
    "             float)\n",
    "\n",
    "L, U = LU(i)\n",
    "print(\"Matriks L\")\n",
    "print(L)\n",
    "print(\"Matriks U\")\n",
    "print(U)\n"
   ]
  }
 ],
 "metadata": {
  "interpreter": {
   "hash": "b96458198c37b42c1e971260dfd6d8f4943190609a686692911bed82f690efe6"
  },
  "kernelspec": {
   "display_name": "Python 3.8.5 64-bit",
   "language": "python",
   "name": "python3"
  },
  "language_info": {
   "codemirror_mode": {
    "name": "ipython",
    "version": 3
   },
   "file_extension": ".py",
   "mimetype": "text/x-python",
   "name": "python",
   "nbconvert_exporter": "python",
   "pygments_lexer": "ipython3",
   "version": "3.9.7"
  },
  "orig_nbformat": 4
 },
 "nbformat": 4,
 "nbformat_minor": 2
}
