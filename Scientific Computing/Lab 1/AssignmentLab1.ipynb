{
 "cells": [
  {
   "cell_type": "markdown",
   "metadata": {},
   "source": [
    "2501976503 - Fabian Habil - LC75 - Assignment Lab 1 Scientific Computing\n"
   ]
  },
  {
   "cell_type": "code",
   "execution_count": null,
   "metadata": {},
   "outputs": [],
   "source": [
    "import numpy as np\n",
    "import matplotlib.pyplot as plt\n",
    "plt.style.use('seaborn-poster')"
   ]
  },
  {
   "cell_type": "code",
   "execution_count": null,
   "metadata": {},
   "outputs": [],
   "source": [
    "def my_func_fit(x, y):\n",
    "    # log kan kedua ruas, solve menggunakan linalg.lstsq dari numpy.\n",
    "    A = np.vstack([np.log(x), np.ones(len(x))]).T\n",
    "    b, log_a = np.linalg.lstsq(A, np.log(y), rcond=None)[0]\n",
    "    a = np.exp(log_a)\n",
    "    # return value alpha dan beta.\n",
    "    return a, b"
   ]
  },
  {
   "cell_type": "code",
   "execution_count": null,
   "metadata": {},
   "outputs": [],
   "source": [
    "# Buat Data Set\n",
    "# Generate random angka dari 0 sampai 10, sebanyak 100 data.\n",
    "x = np.linspace(1, 10, 100)\n",
    "# Tembak dahulu untuk test data set, yaitu alpha = 0.3 misalnya dan beta = 0.4\n",
    "# Lalu tambahkan noise data agar data bervariasi.\n",
    "y = 0.3 * np.power(x, 0.4) + (0.05 * np.random.random(len(x)))\n",
    "\n",
    "# Gambar Graph Data Set\n",
    "plt.figure(figsize=(16, 9))\n",
    "plt.plot(x, y, \"k.\")\n",
    "plt.title(\"Data Set Awal\")\n",
    "plt.show()\n",
    "# variabel a untuk alpha dan b untuk beta, lalu panggil function my_func_fit\n",
    "a, b = my_func_fit(x, y)\n",
    "\n",
    "# Gambar Graph Data Set dan Regresi Eksponen sesuai dengan alpha dan beta yang didapatkan.\n",
    "plt.figure(figsize=(16, 9))\n",
    "plt.plot(x, y, \"k.\")\n",
    "plt.plot(x, a * np.power(x, b), \"r\")\n",
    "plt.title(f\"Regresi ax^b dengan a = {a} dan b = {b}\")\n",
    "plt.show()\n",
    "\n",
    "print(f\"Maka Didapatkan a = {a} dan b = {b}\")\n"
   ]
  }
 ],
 "metadata": {
  "interpreter": {
   "hash": "2a8ced271ea206e3b8e070260ef4c0de149a6599eac91aef09d146a816abd765"
  },
  "kernelspec": {
   "display_name": "Python 3.9.7 ('base')",
   "language": "python",
   "name": "python3"
  },
  "language_info": {
   "codemirror_mode": {
    "name": "ipython",
    "version": 3
   },
   "file_extension": ".py",
   "mimetype": "text/x-python",
   "name": "python",
   "nbconvert_exporter": "python",
   "pygments_lexer": "ipython3",
   "version": "3.9.2"
  },
  "orig_nbformat": 4
 },
 "nbformat": 4,
 "nbformat_minor": 2
}
