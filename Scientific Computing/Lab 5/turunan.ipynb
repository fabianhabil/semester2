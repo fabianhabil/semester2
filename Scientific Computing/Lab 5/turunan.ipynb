{
 "cells": [
  {
   "cell_type": "code",
   "execution_count": 61,
   "metadata": {},
   "outputs": [],
   "source": [
    "import numpy as np\n",
    "import matplotlib.pyplot as plt\n",
    "import math\n",
    "plt.style.use(\"seaborn-poster\")\n",
    "%matplotlib inline"
   ]
  },
  {
   "cell_type": "markdown",
   "metadata": {},
   "source": [
    "finite difference (first forward)"
   ]
  },
  {
   "cell_type": "code",
   "execution_count": 62,
   "metadata": {},
   "outputs": [],
   "source": [
    "def forward_diff(f, x, h):\n",
    "    return (f(x + h) - f(x)) / h\n",
    "\n",
    "\n",
    "def second_forward_diff(f, x, h):\n",
    "    # masih salah, coba benerin (31 mei)\n",
    "    return (-f(x + (2 * h)) + (4 * (f(x + h))) - (3 * f(x))) / (2 * h)\n"
   ]
  },
  {
   "cell_type": "code",
   "execution_count": 63,
   "metadata": {},
   "outputs": [
    {
     "name": "stdout",
     "output_type": "stream",
     "text": [
      "Turunan dari sin x di 3.141592653589793 adalah -0.9999833334166452 dengan error 1.6666583354751907e-05\n",
      "Turunan dari sin x di 3.141592653589793 adalah -1.0000333321666355 dengan error 3.333216663548022e-05\n"
     ]
    }
   ],
   "source": [
    "x = np.pi\n",
    "# gak boleh terlalu kecil nanti jadi dibulatkan ke 0 atau rounding error\n",
    "h = 0.01\n",
    "f = lambda x: np.sin(x)\n",
    "\n",
    "f1 = forward_diff(f, x, h)\n",
    "f2 = second_forward_diff(f, x, h)\n",
    "err = abs(np.cos(x) - f1)\n",
    "err2 = abs(np.cos(x) - f2)\n",
    "print(f\"Turunan dari sin x di {x} adalah {f1} dengan error {err}\")\n",
    "print(f\"Turunan dari sin x di {x} adalah {f2} dengan error {err2}\")"
   ]
  }
 ],
 "metadata": {
  "interpreter": {
   "hash": "df2b94bbdcee7216ada73f8eac6c2e25f24762b3bb103cfdec29e47ece9b3cb1"
  },
  "kernelspec": {
   "display_name": "Python 3.9.7 ('base')",
   "language": "python",
   "name": "python3"
  },
  "language_info": {
   "codemirror_mode": {
    "name": "ipython",
    "version": 3
   },
   "file_extension": ".py",
   "mimetype": "text/x-python",
   "name": "python",
   "nbconvert_exporter": "python",
   "pygments_lexer": "ipython3",
   "version": "3.9.7"
  },
  "orig_nbformat": 4
 },
 "nbformat": 4,
 "nbformat_minor": 2
}
