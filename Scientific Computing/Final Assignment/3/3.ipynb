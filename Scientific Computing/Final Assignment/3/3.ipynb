{
 "cells": [
  {
   "cell_type": "code",
   "execution_count": 351,
   "metadata": {},
   "outputs": [],
   "source": [
    "import numpy as np\n",
    "import matplotlib.pyplot as plt\n",
    "import math\n",
    "plt.style.use('seaborn-poster')"
   ]
  },
  {
   "cell_type": "code",
   "execution_count": 352,
   "metadata": {},
   "outputs": [],
   "source": [
    "def f(x):\n",
    "    return x**3 - 0.3 * x**2 - 8.56 * x + 8.448\n",
    "\n",
    "x = np.linspace(0, 2 * math.pi, 20)\n",
    "y = f(x)\n",
    "fIntegralReal = 248.944"
   ]
  },
  {
   "cell_type": "code",
   "execution_count": 353,
   "metadata": {},
   "outputs": [],
   "source": [
    "def riemann_central(f, x):\n",
    "    diff = x[1] - x[0]\n",
    "    size = x.size\n",
    "    y = 0\n",
    "    for i in range(size - 1):\n",
    "        yIntegral = (f(x[i]) + f(x[i + 1])) / 2\n",
    "        y += yIntegral\n",
    "    y = y * diff\n",
    "    return y"
   ]
  },
  {
   "cell_type": "code",
   "execution_count": 354,
   "metadata": {},
   "outputs": [
    {
     "name": "stdout",
     "output_type": "stream",
     "text": [
      "Hasil dari Riemann Central = 249.98903404334183\n",
      "Hasil asli = 248.944\n",
      "Error = 1.0450340433418432\n"
     ]
    }
   ],
   "source": [
    "rieman_central = riemann_central(f, x)\n",
    "print(f\"Hasil dari Riemann Central = {rieman_central}\")\n",
    "print(f\"Hasil asli = {fIntegralReal}\")\n",
    "print(f\"Error = {abs(fIntegralReal-rieman_central)}\")"
   ]
  },
  {
   "cell_type": "code",
   "execution_count": 355,
   "metadata": {},
   "outputs": [],
   "source": [
    "def trapezoid_rule(f, x):\n",
    "    diff = x[1] - x[0]\n",
    "    size = x.size\n",
    "    y = 0\n",
    "    for i in range(size):\n",
    "        yIntegral = 0\n",
    "        if i == 0 or i == size-1:\n",
    "            yIntegral = f(x[i])\n",
    "        else:\n",
    "            yIntegral = 2 * f(x[i])\n",
    "        y += yIntegral\n",
    "    y = y * diff / 2\n",
    "    return y"
   ]
  },
  {
   "cell_type": "code",
   "execution_count": 356,
   "metadata": {},
   "outputs": [
    {
     "name": "stdout",
     "output_type": "stream",
     "text": [
      "Hasil dari Trapezoid Rule = 249.98903404334183\n",
      "Hasil asli = 248.944\n",
      "Error = 1.0450340433418432\n"
     ]
    }
   ],
   "source": [
    "trapezoid = trapezoid_rule(f,x)\n",
    "print(f\"Hasil dari Trapezoid Rule = {trapezoid}\")\n",
    "print(f\"Hasil asli = {fIntegralReal}\")\n",
    "print(f\"Error = {abs(fIntegralReal-trapezoid)}\")"
   ]
  },
  {
   "cell_type": "code",
   "execution_count": 357,
   "metadata": {},
   "outputs": [],
   "source": [
    "def simpson_rule(f, x):\n",
    "    diff = x[1] - x[0]\n",
    "    size = x.size\n",
    "    y = 0\n",
    "    simpson3per8 = 0\n",
    "    simpson1per3 = 0\n",
    "\n",
    "    # Simpson 3/8 Rule\n",
    "    for i in range(4):\n",
    "        yIntegral = 0\n",
    "        if i == 0 or i == 3:\n",
    "            yIntegral = f(x[i])\n",
    "        else:\n",
    "            yIntegral = 3*f(x[i])\n",
    "        simpson3per8 += yIntegral\n",
    "    simpson3per8 = simpson3per8 * 3 * diff / 8\n",
    "\n",
    "    # Simpson 1/3 Rule\n",
    "    for i in range(3, size):\n",
    "        yIntegral = 0\n",
    "        # Pertama dan akhir tidak dikali apa - apa.\n",
    "        if i == 3 or i == size-1:\n",
    "            yIntegral = f(x[i])\n",
    "        else:\n",
    "            # Mempunyai pola 1 4 2 4 ... 2 4 1\n",
    "            # Ketika i adalah ganjil maka dikali 2\n",
    "            # Ketika i adalah genap maka dikali 4\n",
    "            if i % 2 == 1:\n",
    "                yIntegral = 2*f(x[i])\n",
    "            else:\n",
    "                yIntegral = 4*f(x[i])\n",
    "        simpson1per3 += yIntegral\n",
    "    simpson1per3 = simpson1per3 * diff / 3\n",
    "    y = simpson1per3 + simpson3per8\n",
    "    return y\n"
   ]
  },
  {
   "cell_type": "code",
   "execution_count": 358,
   "metadata": {},
   "outputs": [
    {
     "name": "stdout",
     "output_type": "stream",
     "text": [
      "Hasil dari Simpson Rule = 248.94406492017313\n",
      "Hasil asli = 248.944\n",
      "Error = 6.492017314485565e-05\n"
     ]
    }
   ],
   "source": [
    "simpson = simpson_rule(f,x)\n",
    "print(f\"Hasil dari Simpson Rule = {simpson}\")\n",
    "print(f\"Hasil asli = {fIntegralReal}\")\n",
    "print(f\"Error = {abs(fIntegralReal-simpson)}\")"
   ]
  }
 ],
 "metadata": {
  "kernelspec": {
   "display_name": "Python 3.9.7 ('base')",
   "language": "python",
   "name": "python3"
  },
  "language_info": {
   "codemirror_mode": {
    "name": "ipython",
    "version": 3
   },
   "file_extension": ".py",
   "mimetype": "text/x-python",
   "name": "python",
   "nbconvert_exporter": "python",
   "pygments_lexer": "ipython3",
   "version": "3.9.7"
  },
  "orig_nbformat": 4,
  "vscode": {
   "interpreter": {
    "hash": "df2b94bbdcee7216ada73f8eac6c2e25f24762b3bb103cfdec29e47ece9b3cb1"
   }
  }
 },
 "nbformat": 4,
 "nbformat_minor": 2
}
