{
 "cells": [
  {
   "cell_type": "code",
   "execution_count": 5,
   "metadata": {},
   "outputs": [],
   "source": [
    "import numpy as np\n",
    "import matplotlib.pyplot as plt\n",
    "plt.style.use('seaborn-poster')"
   ]
  },
  {
   "cell_type": "code",
   "execution_count": 6,
   "metadata": {},
   "outputs": [
    {
     "data": {
      "text/plain": [
       "15.060710872745002"
      ]
     },
     "execution_count": 6,
     "metadata": {},
     "output_type": "execute_result"
    }
   ],
   "source": [
    "# Deklarasi data x dan y.\n",
    "x = np.array([-1.1, -0.3, 0.8, 1.9])\n",
    "y = np.array([\n",
    "    15.180, 10.962, 1.920, -2.040\n",
    "])\n",
    "# Data yang akan diinterpolasi.\n",
    "\n",
    "A = np.vstack([x, np.ones(len(x))]).T\n",
    "y = y[:, np.newaxis]\n",
    "\n",
    "# Direct Least Squares Regression\n",
    "alpha = np.dot((np.dot(np.linalg.inv(np.dot(A.T, A)), A.T)), y)\n",
    "\n",
    "# Anggap f(x) = ax + b\n",
    "# Index pertama dari Direct Least Squares Regression adalah a\n",
    "a = alpha[0][0]\n",
    "# Index kedua dari Direct Least Squares Regression adalah b\n",
    "b = alpha[1][0]\n",
    "\n",
    "Y = a * X + b\n",
    "\n",
    "# print(\"Hasil Direct Least Squares Regression\")\n",
    "# print(f\"Didapatkan y = {a}x + {b}\")\n",
    "# for i in range(len(X)):\n",
    "#     print(f\"{X[i]} = {round(Y[i],4)}\")\n",
    "#     Y_rounded.append(round(Y[i], 4))\n",
    "\n",
    "# # Gambar Grafik\n",
    "# plt.figure(figsize=(12, 8))\n",
    "# plt.title(\"Hasil Direct Least Squares Regression\")\n",
    "# plt.plot(x, y, \"b\")\n",
    "# plt.plot(x, y, \"ro\")\n",
    "# plt.plot(X, Y_rounded, \"go\")\n",
    "# plt.legend([\"Garis Data Sample\", \"Titik Data Sample\", \"Direct LSQ Regression\"])\n",
    "# plt.show()"
   ]
  }
 ],
 "metadata": {
  "kernelspec": {
   "display_name": "Python 3.9.7 ('base')",
   "language": "python",
   "name": "python3"
  },
  "language_info": {
   "codemirror_mode": {
    "name": "ipython",
    "version": 3
   },
   "file_extension": ".py",
   "mimetype": "text/x-python",
   "name": "python",
   "nbconvert_exporter": "python",
   "pygments_lexer": "ipython3",
   "version": "3.9.7"
  },
  "orig_nbformat": 4,
  "vscode": {
   "interpreter": {
    "hash": "df2b94bbdcee7216ada73f8eac6c2e25f24762b3bb103cfdec29e47ece9b3cb1"
   }
  }
 },
 "nbformat": 4,
 "nbformat_minor": 2
}
