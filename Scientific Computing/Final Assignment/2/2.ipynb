{
 "cells": [
  {
   "cell_type": "code",
   "execution_count": 125,
   "metadata": {},
   "outputs": [],
   "source": [
    "import math\n",
    "import numpy as np"
   ]
  },
  {
   "cell_type": "code",
   "execution_count": 126,
   "metadata": {},
   "outputs": [],
   "source": [
    "def sinxtaylor(x, i):\n",
    "    taylor_sum = 0\n",
    "    for n in range(i + 1):\n",
    "        current = 1 if n % 2 == 0 else -1\n",
    "        current = current / math.factorial(2 * n + 1)\n",
    "        current = current * x**(2 * n + 1)\n",
    "        taylor_sum += current\n",
    "    return taylor_sum   "
   ]
  },
  {
   "cell_type": "code",
   "execution_count": 127,
   "metadata": {},
   "outputs": [],
   "source": [
    "def cosxtaylor(x, i):\n",
    "    taylor_sum = 0\n",
    "    for n in range(i + 1):\n",
    "        current = 1 if n % 2 == 0 else -1\n",
    "        current = current / math.factorial(2 * n)\n",
    "        current = current * x**(2 * n)\n",
    "        taylor_sum += current\n",
    "    return taylor_sum"
   ]
  },
  {
   "cell_type": "code",
   "execution_count": 128,
   "metadata": {},
   "outputs": [],
   "source": [
    "def sinxcosxtaylor(x, i):\n",
    "    taylor_sum = 0\n",
    "    for n in range(i + 1):\n",
    "        current = 1 if n % 2 == 0 else -1\n",
    "        current = current / math.factorial(2 * n + 1)\n",
    "        current = current * x**(2 * n + 1)\n",
    "        current = current * 2**(2 * n + 1)\n",
    "        current = current / 2\n",
    "        taylor_sum += current\n",
    "    return taylor_sum"
   ]
  },
  {
   "cell_type": "code",
   "execution_count": 129,
   "metadata": {},
   "outputs": [
    {
     "name": "stdout",
     "output_type": "stream",
     "text": [
      "n = 0 (ordo ke 1)\n",
      "n = 1 (ordo ke 3)\n",
      "n = 2 (ordo ke 5)\n",
      "\n",
      "\n",
      "n = 0 (sum = 1)\n",
      "n = 1 (ordo ke 2)\n",
      "n = 2 (ordo ke 4)\n",
      "\n",
      "\n",
      "n = 0 (ordo ke 1)\n",
      "n = 1 (ordo ke 3)\n",
      "n = 2 (ordo ke 5)\n"
     ]
    }
   ],
   "source": [
    "# Sin(x)\n",
    "for i in range(3):\n",
    "    print(f\"n = {i} (ordo ke {2*i+1})\")\n",
    "    # Panggil fungsi sinxtaylor dan masukkan x yang akan dicari\n",
    "    # dan yang didekatkan dengan a = 0\n",
    "\n",
    "print(\"\\n\")\n",
    "# Cos(x)\n",
    "for i in range(3):\n",
    "    if i == 0: print(f\"n = {i} (sum = 1)\")\n",
    "    else: print(f\"n = {i} (ordo ke {i*2})\")\n",
    "    # Panggil fungsi cosxtaylor dan masukkan x yang akan dicari\n",
    "    # dan yang didekatkan dengan a = 0\n",
    "\n",
    "print(\"\\n\")\n",
    "# Sin(x)Cos(x)\n",
    "for i in range(3):\n",
    "    print(f\"n = {i} (ordo ke {2*i+1})\")\n",
    "    # Panggil fungsi sinxcosxtaylor dan masukkan x yang akan dicari\n",
    "    # dan yang didekatkan dengan a = 0"
   ]
  },
  {
   "cell_type": "code",
   "execution_count": 130,
   "metadata": {},
   "outputs": [
    {
     "name": "stdout",
     "output_type": "stream",
     "text": [
      "sin = 0.9248322292886504\n",
      "cos = 0.01996895776487817\n",
      "Hasil asli = 0\n",
      "Hasil taylor sin x dikali cos x = 0.018467935726263183\n",
      "Error = 0.018467935726263183\n"
     ]
    }
   ],
   "source": [
    "# sin(pi/2) -> saat n = 1 adalah orde ke 3 = orde ke 4\n",
    "taylor_ans_sin = sinxtaylor(math.pi / 2, 1)\n",
    "\n",
    "# cos(pi/2) -> saat n = 2 adalah orde ke 4\n",
    "taylor_ans_cos = cosxtaylor(math.pi / 2, 2)\n",
    "\n",
    "taylor_ans = taylor_ans_sin * taylor_ans_cos\n",
    "print(f\"Hasil asli = 0\")\n",
    "print(f\"Hasil taylor sin x dikali cos x = {taylor_ans}\")\n",
    "print(f\"Error = {abs(taylor_ans - 0)}\")"
   ]
  },
  {
   "cell_type": "code",
   "execution_count": 131,
   "metadata": {},
   "outputs": [
    {
     "name": "stdout",
     "output_type": "stream",
     "text": [
      "Hasil asli = 0\n",
      "Hasil taylor sin x cos x = -1.0130600632300881\n",
      "Error = 1.0130600632300881\n"
     ]
    }
   ],
   "source": [
    "# sin(pi/2)cos(pi/2) -> saat n = 1 adalah orde ke 3 = orde ke 4\n",
    "taylor_ans = sinxcosxtaylor(math.pi/2, 1)\n",
    "print(f\"Hasil asli = 0\")\n",
    "print(f\"Hasil taylor sin x cos x = {taylor_ans}\")\n",
    "print(f\"Error = {abs(taylor_ans - 0)}\")"
   ]
  },
  {
   "cell_type": "code",
   "execution_count": 132,
   "metadata": {},
   "outputs": [
    {
     "name": "stdout",
     "output_type": "stream",
     "text": [
      "0.7071067811865476\n",
      "0.707429206709773\n"
     ]
    }
   ],
   "source": [
    "# cos(pi/4) -> saat n = 2 adalah orde ke 4\n",
    "asli = 1/2 * math.sqrt(2)\n",
    "print(asli)\n",
    "taylor_ans_cos = cosxtaylor(math.pi/4, 2)\n",
    "print(taylor_ans_cos)"
   ]
  },
  {
   "cell_type": "code",
   "execution_count": 133,
   "metadata": {},
   "outputs": [
    {
     "name": "stdout",
     "output_type": "stream",
     "text": [
      "i = 0, f(x) = 1.0 \n",
      "truncation error bound = 0.7853981633974483\n",
      "i = 1, f(x) = 0.6915748624659576 \n",
      "truncation error bound = 0.21329907207114945\n",
      "i = 2, f(x) = 0.707429206709773 \n",
      "truncation error bound = 0.05712173363272977\n",
      "i = 3, f(x) = 0.7071032148228457 \n",
      "truncation error bound = 0.011210657783710018\n",
      "i = 4, f(x) = 0.7071068056832942 \n",
      "truncation error bound = 0.0017609749494199947\n",
      "i = 5, f(x) = 0.7071067810719247 \n",
      "truncation error bound = 0.00023051107382078954\n",
      "i = 6, f(x) = 0.7071067811869363 \n",
      "truncation error bound = 2.586328200729551e-05\n",
      "i = 7, f(x) = 0.7071067811865465 \n",
      "truncation error bound = 2.53912177349362e-06\n",
      "berhenti di n = 7 (orde ke 14)\n"
     ]
    }
   ],
   "source": [
    "# Epsilon error yang ditetapkan sebesar 0.00001\n",
    "epsilon = 1e-5\n",
    "for i in range(50):\n",
    "    taylor_ans = cosxtaylor(math.pi/4, i)\n",
    "    taylor_current = taylor_ans * (math.pi/4 - 0)**(i+1)/math.factorial(i+1)\n",
    "    print(f\"i = {i}, f(x) = {taylor_ans} \")\n",
    "    print(f\"truncation error bound = {taylor_current}\")\n",
    "    # Cek apakah truncation error dari taylor masih di atas epsilon.\n",
    "    if(abs(taylor_current) < epsilon):\n",
    "        print(f\"berhenti di n = {i} (orde ke {i*2})\")\n",
    "        break\n",
    "\n",
    "# for i in range(3):\n",
    "#     taylor_ans = cosxtaylor(math.pi/2, i)\n",
    "#     taylor_current = taylor_ans * (math.pi/4 - 0)**(i+1)/math.factorial(i+1)\n",
    "#     print(f\"n = {i}, ordo ke = {i*2}, f(x) = {taylor_ans} \")\n",
    "#     print(f\"truncation error bound = {taylor_current}\")"
   ]
  }
 ],
 "metadata": {
  "kernelspec": {
   "display_name": "Python 3.9.7 ('base')",
   "language": "python",
   "name": "python3"
  },
  "language_info": {
   "codemirror_mode": {
    "name": "ipython",
    "version": 3
   },
   "file_extension": ".py",
   "mimetype": "text/x-python",
   "name": "python",
   "nbconvert_exporter": "python",
   "pygments_lexer": "ipython3",
   "version": "3.9.7"
  },
  "orig_nbformat": 4,
  "vscode": {
   "interpreter": {
    "hash": "df2b94bbdcee7216ada73f8eac6c2e25f24762b3bb103cfdec29e47ece9b3cb1"
   }
  }
 },
 "nbformat": 4,
 "nbformat_minor": 2
}
