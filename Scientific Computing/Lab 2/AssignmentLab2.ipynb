{
 "cells": [
  {
   "cell_type": "markdown",
   "metadata": {},
   "source": [
    "2501976503 - Fabian Habil Ramdhan - Assignment Lab 2 Scientific Computing"
   ]
  },
  {
   "cell_type": "code",
   "execution_count": null,
   "metadata": {},
   "outputs": [],
   "source": [
    "import numpy as np\n",
    "import matplotlib.pyplot as plt\n",
    "plt.style.use('seaborn-poster')"
   ]
  },
  {
   "cell_type": "code",
   "execution_count": null,
   "metadata": {},
   "outputs": [],
   "source": [
    "def divided_diff(x, y):\n",
    "    n = len(y)\n",
    "    # make new array, because we wont modify the first x , y array.\n",
    "    x = np.copy(x)\n",
    "    a = np.copy(y)\n",
    "    for k in range(1, n):\n",
    "        a[k:n] = (a[k:n] - a[k - 1])/(x[k:n] - x[k - 1])\n",
    "    return a\n",
    "\n",
    "\n",
    "def newton_poly(x, y, xtest):\n",
    "    coef = divided_diff(x, y)\n",
    "    n = len(x) - 1\n",
    "    p = coef[n]\n",
    "    for k in range(1, n+1):\n",
    "        p = coef[n-k] + (xtest-x[n-k]) * p\n",
    "    return p\n"
   ]
  },
  {
   "cell_type": "code",
   "execution_count": null,
   "metadata": {},
   "outputs": [],
   "source": [
    "x = np.array([0, 1, 2, 3, 4, 5, 6, 7, 8, 9])\n",
    "y = np.array([0, 0.64, 0.98, 0.87, 0.34, -0.34, -\n",
    "             0.87, -0.98, -0.65, 0])\n",
    "\n",
    "x_new = np.array([0, 1, 2, 3, 4, 5, 6, 7, 8, 9])\n",
    "y_new = newton_poly(x, y, 3.14)\n",
    "print(f\"Didapatkan \")\n",
    "plt.figure(figsize=(9,6))\n",
    "plt.plot(x, y, \"b\")\n",
    "plt.plot(3.14, y_new, \"r.\")\n"
   ]
  }
 ],
 "metadata": {
  "interpreter": {
   "hash": "0e8d0ac39b1413ea33709178b964b2087a06d965eda941592b6cf0c40c84602b"
  },
  "kernelspec": {
   "display_name": "Python 3.9.2 64-bit",
   "language": "python",
   "name": "python3"
  },
  "language_info": {
   "codemirror_mode": {
    "name": "ipython",
    "version": 3
   },
   "file_extension": ".py",
   "mimetype": "text/x-python",
   "name": "python",
   "nbconvert_exporter": "python",
   "pygments_lexer": "ipython3",
   "version": "3.9.2"
  },
  "orig_nbformat": 4
 },
 "nbformat": 4,
 "nbformat_minor": 2
}
